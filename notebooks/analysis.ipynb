{
 "cells": [
  {
   "cell_type": "code",
   "execution_count": null,
   "metadata": {},
   "outputs": [],
   "source": [
    "import pandas as pd\n",
    "import numpy as np\n",
    "\n",
    "from pathlib import Path\n",
    "import seaborn as sns\n",
    "import matplotlib.pyplot as plt"
   ]
  },
  {
   "cell_type": "code",
   "execution_count": null,
   "metadata": {},
   "outputs": [],
   "source": [
    "base_path = Path().resolve().parent\n",
    "artefacts_path = base_path.joinpath(\"artefacts\")\n",
    "# print(artefacts_path)\n",
    "\n",
    "embedding_metrics_path = artefacts_path.joinpath(\"embedding_metrics_df.csv\")\n",
    "rgb_metrics_path = artefacts_path.joinpath(\"rgb_metrics_df.csv\")\n",
    "hsv_metrics_path = artefacts_path.joinpath(\"hsv_metrics_df.csv\")\n",
    "hist_metrics_path = artefacts_path.joinpath(\"hist_metrics_df.csv\")"
   ]
  },
  {
   "cell_type": "code",
   "execution_count": null,
   "metadata": {},
   "outputs": [],
   "source": [
    "\n",
    "\n",
    "df_embed = pd.read_csv(embedding_metrics_path)\n",
    "df_rgb = pd.read_csv(rgb_metrics_path)\n",
    "df_hsv = pd.read_csv(hsv_metrics_path)\n",
    "df_hist = pd.read_csv(hist_metrics_path)"
   ]
  },
  {
   "cell_type": "code",
   "execution_count": null,
   "metadata": {},
   "outputs": [],
   "source": [
    "df_list = [df_embed,df_rgb,df_hsv,df_hist]"
   ]
  },
  {
   "cell_type": "code",
   "execution_count": null,
   "metadata": {},
   "outputs": [],
   "source": [
    "df_embed.head()"
   ]
  },
  {
   "cell_type": "markdown",
   "metadata": {},
   "source": [
    "# Accuracy Analysis"
   ]
  },
  {
   "cell_type": "code",
   "execution_count": null,
   "metadata": {},
   "outputs": [],
   "source": [
    "data = []\n",
    "for df in df_list:\n",
    "    data.append(df.train_score.max())\n",
    "    data.append(df.acc_top_1.max())\n",
    "    data.append(df.acc_top_5.max())\n",
    "\n",
    "df_performance = pd.DataFrame(columns=[\"scores\"],data=data)\n",
    "df_performance\n",
    "# for d in data:\n"
   ]
  },
  {
   "cell_type": "code",
   "execution_count": null,
   "metadata": {},
   "outputs": [],
   "source": [
    "groups =[\"emb\",\"emb+rgb\",\"emb+hsv\",\"emb+hist\"]\n",
    "cats = [\"train_acc\",\"val_acc\",\"MAP@5\"]*len(groups)\n",
    "df_performance[\"metrics\"] = cats\n",
    "\n",
    "\n",
    "exp = []\n",
    "for x in groups:\n",
    "    exp.extend([x]*3)\n",
    "df_performance[\"exps\"] = exp"
   ]
  },
  {
   "cell_type": "code",
   "execution_count": null,
   "metadata": {},
   "outputs": [],
   "source": [
    "df_performance"
   ]
  },
  {
   "cell_type": "code",
   "execution_count": null,
   "metadata": {},
   "outputs": [],
   "source": [
    "maximum_of_each_metrics = list(df_performance.groupby(by=[\"metrics\"]).max()[\"scores\"])\n",
    "maximum_of_each_metrics"
   ]
  },
  {
   "cell_type": "code",
   "execution_count": null,
   "metadata": {},
   "outputs": [],
   "source": [
    "# df_performance.groupby(by=[\"metrics\"])\n",
    "ranks = df_performance.groupby(by=[\"metrics\"]).get_group(\"train_acc\")[\"scores\"].sort_values().index\n",
    "palette = sns.color_palette('Blues_d', len(ranks))"
   ]
  },
  {
   "cell_type": "code",
   "execution_count": null,
   "metadata": {},
   "outputs": [],
   "source": [
    "# ax =sns.barplot(data=df_performance,x=\"exps\",y=\"scores\",hue=\"metrics\")"
   ]
  },
  {
   "cell_type": "code",
   "execution_count": null,
   "metadata": {},
   "outputs": [],
   "source": [
    "ax =sns.barplot(data=df_performance,x=\"exps\",y=\"scores\",hue=\"metrics\",palette='crest')\n",
    "ax.set_xlabel(\"features\")\n",
    "\n",
    "for i in ax.containers: \n",
    "    # set color for tallest bar for each metrics  \n",
    "    patch_h = [patch.get_height() for patch in i.patches] \n",
    "    idx_tallest = np.argmax(patch_h) \n",
    "    i.patches[idx_tallest].set_edgecolor('#a834a8')\n",
    "\n",
    "    # set tallest bar label for each metrics\n",
    "    bar_labels = [\"\"]*len(patch_h)\n",
    "    bar_labels[idx_tallest] = np.round(patch_h[idx_tallest],4)\n",
    "    ax.bar_label(i,labels=bar_labels)\n",
    "\n"
   ]
  },
  {
   "cell_type": "code",
   "execution_count": null,
   "metadata": {},
   "outputs": [],
   "source": [
    "[\"\"]*4"
   ]
  },
  {
   "cell_type": "code",
   "execution_count": null,
   "metadata": {},
   "outputs": [],
   "source": [
    "g = sns.catplot(data=df_performance,kind=\"bar\",x=\"exps\",y=\"scores\",hue=\"metrics\",\n",
    "            errorbar=\"sd\", palette=\"crest\", alpha=1, height=6)\n",
    "g.despine(left=True)\n",
    "g.set_axis_labels(\"features\", \"scores\")\n",
    "g.legend.set_title(\"Classification\")\n",
    "ax = g.ax\n",
    "\n",
    "for i in ax.containers: \n",
    "    # set color for tallest bar for each metrics  \n",
    "    patch_h = [patch.get_height() for patch in i.patches] \n",
    "    idx_tallest = np.argmax(patch_h) \n",
    "    i.patches[idx_tallest].set_edgecolor('#FF0000')\n",
    "\n",
    "    # set tallest bar label for each metrics\n",
    "    bar_labels = [\"\"]*len(patch_h)\n",
    "    bar_labels[idx_tallest] = np.round(patch_h[idx_tallest],4)\n",
    "    ax.bar_label(i,labels=bar_labels)\n",
    "\n",
    "\n"
   ]
  }
 ],
 "metadata": {
  "kernelspec": {
   "display_name": "pt",
   "language": "python",
   "name": "python3"
  },
  "language_info": {
   "codemirror_mode": {
    "name": "ipython",
    "version": 3
   },
   "file_extension": ".py",
   "mimetype": "text/x-python",
   "name": "python",
   "nbconvert_exporter": "python",
   "pygments_lexer": "ipython3",
   "version": "3.9.18"
  }
 },
 "nbformat": 4,
 "nbformat_minor": 2
}
