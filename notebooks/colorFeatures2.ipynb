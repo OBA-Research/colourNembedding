{
 "cells": [
  {
   "cell_type": "code",
   "execution_count": null,
   "metadata": {},
   "outputs": [],
   "source": [
    "import pyfeats\n",
    "from Pylette import extract_colors\n",
    "from PIL import Image, ImageOps\n",
    "import cv2 as cv\n",
    "import numpy as np\n",
    "import matplotlib.pyplot as plt\n",
    "import os\n",
    "import random\n",
    "random.seed(2024)\n",
    "import pandas as pd\n",
    "\n",
    "from pathlib import Path"
   ]
  },
  {
   "cell_type": "code",
   "execution_count": null,
   "metadata": {},
   "outputs": [],
   "source": [
    "base_dir = Path().absolute().parents[0].joinpath(\"dataset\",\"randomHotels\")\n",
    "v = \"_v2\"\n",
    "hotels_path = base_dir.joinpath(f\"hotels_256x256{v}\")\n",
    "df_path = base_dir.joinpath(\"randomHotels_1000.csv\")\n",
    "df = pd.read_csv(df_path)\n",
    "df.head()"
   ]
  },
  {
   "cell_type": "code",
   "execution_count": null,
   "metadata": {},
   "outputs": [],
   "source": [
    "img_dirs = []\n",
    "for ind,row in df.iterrows():\n",
    "    image_id = row[\"image_id\"]\n",
    "    hotel_id = str(row[\"hotel_id\"])\n",
    "    img_path = hotels_path.joinpath(hotel_id,image_id)\n",
    "    img_dirs.append(str(img_path))"
   ]
  },
  {
   "cell_type": "code",
   "execution_count": null,
   "metadata": {},
   "outputs": [],
   "source": [
    "df[\"path\"] =img_dirs\n",
    "df.head()"
   ]
  },
  {
   "cell_type": "markdown",
   "metadata": {},
   "source": [
    "# ColorSpace features Extraction"
   ]
  },
  {
   "cell_type": "code",
   "execution_count": null,
   "metadata": {},
   "outputs": [],
   "source": [
    "img = cv.imread(img_dirs[0])\n",
    "img = cv.resize(img,(224,224))\n",
    "img.shape"
   ]
  },
  {
   "cell_type": "code",
   "execution_count": null,
   "metadata": {},
   "outputs": [],
   "source": [
    "img_hsv = cv.cvtColor(img,cv.COLOR_BGR2HSV_FULL)"
   ]
  },
  {
   "cell_type": "code",
   "execution_count": null,
   "metadata": {},
   "outputs": [],
   "source": [
    "H, S, V = cv.split(img_hsv)\n",
    "H, S, V = H/255.0, S/255.0, V/255.0\n",
    "V.min()"
   ]
  },
  {
   "cell_type": "code",
   "execution_count": null,
   "metadata": {},
   "outputs": [],
   "source": [
    "fig, axes = plt.subplots(nrows=1, ncols=5, figsize=(20,5))\n",
    "axes[0].imshow(img)\n",
    "axes[1].imshow(img_hsv)\n",
    "axes[2].imshow(H)\n",
    "axes[3].imshow(S)\n",
    "axes[4].imshow(V)\n"
   ]
  },
  {
   "cell_type": "markdown",
   "metadata": {},
   "source": [
    "### 3. N Dominant color proportion in an image "
   ]
  },
  {
   "cell_type": "code",
   "execution_count": null,
   "metadata": {},
   "outputs": [],
   "source": [
    "img_dir = img_dirs[10]\n",
    "palette = extract_colors(image=img_dir,palette_size=11,resize=True,mode='MC', sort_mode='luminance')\n",
    "# palette = extract_colors(image=img_dir,palette_size=10,resize=True,mode='KM',sort_mode='frequency')"
   ]
  },
  {
   "cell_type": "code",
   "execution_count": null,
   "metadata": {},
   "outputs": [],
   "source": [
    "palette.display()"
   ]
  },
  {
   "cell_type": "code",
   "execution_count": null,
   "metadata": {},
   "outputs": [],
   "source": []
  },
  {
   "cell_type": "markdown",
   "metadata": {},
   "source": [
    "### 4. N Dominant color proportion for a hotel view to HSV values"
   ]
  },
  {
   "cell_type": "code",
   "execution_count": null,
   "metadata": {},
   "outputs": [],
   "source": [
    "def getNDominantcolor(paths,colorspace=\"hsv\",palette_size=5,resize=False,mode=\"MC\",sort_mode='luminance'):\n",
    "    img_color_features = []\n",
    "    for img_path in paths:\n",
    "        color_space_features = []\n",
    "        palette = extract_colors(image=img_path,palette_size=palette_size,resize=resize,mode=mode,sort_mode=sort_mode)\n",
    "        for color in palette:\n",
    "            if colorspace==\"hsv\":\n",
    "                color_space_features.extend(color.hsv)\n",
    "            elif colorspace==\"rgb\": \n",
    "                color_space_features.extend(color.rgb)  \n",
    "            else:\n",
    "                raise Exception(f\"{colorspace} not implemented yet\")\n",
    "        img_color_features.append(color_space_features)\n",
    "    return img_color_features"
   ]
  },
  {
   "cell_type": "code",
   "execution_count": null,
   "metadata": {},
   "outputs": [],
   "source": [
    "NDomColorFeats = getNDominantcolor(df[\"path\"])\n",
    "NDomColorFeats_rgb = getNDominantcolor(df[\"path\"],colorspace=\"rgb\")"
   ]
  },
  {
   "cell_type": "code",
   "execution_count": null,
   "metadata": {},
   "outputs": [],
   "source": [
    "NDomColorFeats_11 = getNDominantcolor(df[\"path\"],palette_size=11)\n",
    "NDomColorFeats_rgb_11 = getNDominantcolor(df[\"path\"],colorspace=\"rgb\",palette_size=11)\n",
    "\n",
    "NDomColorFeats_18 = getNDominantcolor(df[\"path\"],palette_size=18)\n",
    "NDomColorFeats_rgb_18 = getNDominantcolor(df[\"path\"],colorspace=\"rgb\",palette_size=18)\n",
    "\n",
    "NDomColorFeats_28 = getNDominantcolor(df[\"path\"],palette_size=28)\n",
    "NDomColorFeats_rgb_28 = getNDominantcolor(df[\"path\"],colorspace=\"rgb\",palette_size=28)\n",
    "\n",
    "NDomColorFeats_43 = getNDominantcolor(df[\"path\"],palette_size=43)\n",
    "NDomColorFeats_rgb_43 = getNDominantcolor(df[\"path\"],colorspace=\"rgb\",palette_size=43)\n",
    "\n",
    "NDomColorFeats_64 = getNDominantcolor(df[\"path\"],palette_size=64)\n",
    "NDomColorFeats_rgb_64 = getNDominantcolor(df[\"path\"],colorspace=\"rgb\",palette_size=64)\n",
    "\n",
    "NDomColorFeats_100 = getNDominantcolor(df[\"path\"],palette_size=100)\n",
    "NDomColorFeats_rgb_100 = getNDominantcolor(df[\"path\"],colorspace=\"rgb\",palette_size=100)"
   ]
  },
  {
   "cell_type": "code",
   "execution_count": null,
   "metadata": {},
   "outputs": [],
   "source": [
    "#scale features\n",
    "def scale_features(NDomColorFeats,NDomColorFeats_rgb):\n",
    "\n",
    "    hsv_feats = []\n",
    "    for feat in NDomColorFeats:\n",
    "        hsv_feats.append([i/360 if i>=1 else i for i in feat ])\n",
    "    hsv_feats = np.round(np.array(hsv_feats),decimals=4).tolist()\n",
    "\n",
    "    rgb_feats =(np.round(np.array(NDomColorFeats_rgb)/255,decimals=4)).tolist()\n",
    "    return hsv_feats, rgb_feats"
   ]
  },
  {
   "cell_type": "code",
   "execution_count": null,
   "metadata": {},
   "outputs": [],
   "source": [
    "counter = 0\n",
    "hsv_feats, rgb_feats = scale_features(NDomColorFeats,NDomColorFeats_rgb)\n",
    "df[\"hsv_feats\"] = hsv_feats\n",
    "df[\"rgb_feats\"] = rgb_feats\n",
    "counter+=1\n",
    "print(f\"done with {counter}\")\n",
    "\n",
    "hsv_feats, rgb_feats = scale_features(NDomColorFeats_11,NDomColorFeats_rgb_11)\n",
    "df[\"hsv_feats_11\"] = hsv_feats\n",
    "df[\"rgb_feats_11\"] = rgb_feats\n",
    "\n",
    "counter+=1\n",
    "print(f\"done with {counter}\")\n",
    "\n",
    "hsv_feats, rgb_feats = scale_features(NDomColorFeats_18,NDomColorFeats_rgb_18)\n",
    "df[\"hsv_feats_18\"] = hsv_feats\n",
    "df[\"rgb_feats_18\"] = rgb_feats\n",
    "\n",
    "counter+=1\n",
    "print(f\"done with {counter}\")\n",
    "\n",
    "hsv_feats, rgb_feats = scale_features(NDomColorFeats_28,NDomColorFeats_rgb_28)\n",
    "df[\"hsv_feats_28\"] = hsv_feats\n",
    "df[\"rgb_feats_28\"] = rgb_feats\n",
    "\n",
    "counter+=1\n",
    "print(f\"done with {counter}\")\n",
    "\n",
    "hsv_feats, rgb_feats = scale_features(NDomColorFeats_43,NDomColorFeats_rgb_43)\n",
    "df[\"hsv_feats_43\"] = hsv_feats\n",
    "df[\"rgb_feats_43\"] = rgb_feats\n",
    "\n",
    "counter+=1\n",
    "print(f\"done with {counter}\")\n",
    "\n",
    "hsv_feats, rgb_feats = scale_features(NDomColorFeats_64,NDomColorFeats_rgb_64)\n",
    "df[\"hsv_feats_64\"] = hsv_feats\n",
    "df[\"rgb_feats_64\"] = rgb_feats\n",
    "\n",
    "counter+=1\n",
    "print(f\"done with {counter}\")\n",
    "\n",
    "hsv_feats, rgb_feats = scale_features(NDomColorFeats_100,NDomColorFeats_rgb_100)\n",
    "df[\"hsv_feats_100\"] = hsv_feats\n",
    "df[\"rgb_feats_100\"] = rgb_feats"
   ]
  },
  {
   "cell_type": "code",
   "execution_count": null,
   "metadata": {},
   "outputs": [],
   "source": []
  },
  {
   "cell_type": "code",
   "execution_count": null,
   "metadata": {},
   "outputs": [],
   "source": [
    "df.tail()"
   ]
  },
  {
   "cell_type": "markdown",
   "metadata": {},
   "source": [
    "5. ### Color Histogram and Marginal Histograms"
   ]
  },
  {
   "cell_type": "code",
   "execution_count": null,
   "metadata": {},
   "outputs": [],
   "source": [
    "red_hist = cv.calcHist(\n",
    "    [img], [2], None, [64], [0, 256]\n",
    ")\n",
    "green_hist = cv.calcHist(\n",
    "    [img], [1], None, [64], [0, 256]\n",
    ")\n",
    "blue_hist = cv.calcHist(\n",
    "    [img], [0], None, [64], [0, 256]\n",
    ")\n",
    "\n",
    "red_hist.shape"
   ]
  },
  {
   "cell_type": "code",
   "execution_count": null,
   "metadata": {},
   "outputs": [],
   "source": [
    "fig, axs = plt.subplots(1, 3, figsize=(15, 4), sharey=True)\n",
    "axs[0].plot(red_hist, color='r')\n",
    "axs[1].plot(green_hist, color='g')\n",
    "axs[2].plot(blue_hist, color='b')\n",
    "plt.show()"
   ]
  },
  {
   "cell_type": "code",
   "execution_count": null,
   "metadata": {},
   "outputs": [],
   "source": [
    "# Normalized \n",
    "red_hist_norm = ((red_hist-min(red_hist))/(max(red_hist)-min(red_hist))) \n",
    "green_hist_norm = ((green_hist-min(green_hist))/(max(green_hist)-min(green_hist))) \n",
    "blue_hist_norm = ((blue_hist-min(blue_hist))/(max(blue_hist)-min(blue_hist))) "
   ]
  },
  {
   "cell_type": "code",
   "execution_count": null,
   "metadata": {},
   "outputs": [],
   "source": [
    "def normalizeHist(hist):\n",
    "    normalize_hist = ((hist-min(hist))/(max(hist)-min(hist)))\n",
    "    return normalize_hist"
   ]
  },
  {
   "cell_type": "code",
   "execution_count": null,
   "metadata": {},
   "outputs": [],
   "source": [
    "fig, axs = plt.subplots(1, 3, figsize=(15, 4), sharey=True)\n",
    "axs[0].plot(red_hist_norm, color='r')\n",
    "axs[1].plot(green_hist_norm, color='g')\n",
    "axs[2].plot(blue_hist_norm, color='b')\n",
    "plt.show()"
   ]
  },
  {
   "cell_type": "code",
   "execution_count": null,
   "metadata": {},
   "outputs": [],
   "source": [
    "img_hsv = cv.cvtColor(img,cv.COLOR_BGR2HSV_FULL)\n",
    "\n",
    "red_hist = cv.calcHist(\n",
    "    [img_hsv], [0], None, [64], [0, 256]\n",
    ")\n",
    "green_hist = cv.calcHist(\n",
    "    [img_hsv], [1], None, [64], [0, 256]\n",
    ")\n",
    "blue_hist = cv.calcHist(\n",
    "    [img_hsv], [2], None, [64], [0, 256]\n",
    ")\n",
    "\n",
    "red_hist.shape"
   ]
  },
  {
   "cell_type": "code",
   "execution_count": null,
   "metadata": {},
   "outputs": [],
   "source": [
    "fig, axs = plt.subplots(1, 3, figsize=(15, 4), sharey=True)\n",
    "axs[0].plot(red_hist, color='r')\n",
    "axs[1].plot(green_hist, color='g')\n",
    "axs[2].plot(blue_hist, color='b')\n",
    "plt.show()"
   ]
  },
  {
   "cell_type": "code",
   "execution_count": null,
   "metadata": {},
   "outputs": [],
   "source": [
    "# Normalized \n",
    "red_hist_norm = ((red_hist-min(red_hist))/(max(red_hist)-min(red_hist))) \n",
    "green_hist_norm = ((green_hist-min(green_hist))/(max(green_hist)-min(green_hist))) \n",
    "blue_hist_norm = ((blue_hist-min(blue_hist))/(max(blue_hist)-min(blue_hist))) \n",
    "\n",
    "fig, axs = plt.subplots(1, 3, figsize=(15, 4), sharey=True)\n",
    "axs[0].plot(red_hist_norm, color='r')\n",
    "axs[1].plot(green_hist_norm, color='g')\n",
    "axs[2].plot(blue_hist_norm, color='b')\n",
    "plt.show()"
   ]
  },
  {
   "cell_type": "code",
   "execution_count": null,
   "metadata": {},
   "outputs": [],
   "source": [
    "def get_vector(image,channel, bins=16):\n",
    "    if(channel==\"rgb\"):\n",
    "        red = cv.calcHist(\n",
    "            [image], [2], None, [bins], [0, 256]\n",
    "        )\n",
    "        red_hist_norm = normalizeHist(red)\n",
    "        green = cv.calcHist(\n",
    "            [image], [1], None, [bins], [0, 256]\n",
    "        )\n",
    "        green_hist_norm = normalizeHist(green)\n",
    "        blue = cv.calcHist(\n",
    "            [image], [0], None, [bins], [0, 256]\n",
    "        )\n",
    "        blue_hist_norm = normalizeHist(blue)\n",
    "        vector = np.concatenate([red_hist_norm, green_hist_norm, blue_hist_norm], axis=0)\n",
    "        vector = vector.reshape(-1)\n",
    "        # normalize_vector = vector/max(vector)\n",
    "        return vector\n",
    "    else:\n",
    "        img_hsv = cv.cvtColor(image,cv.COLOR_BGR2HSV_FULL)\n",
    "\n",
    "        h = cv.calcHist(\n",
    "            [img_hsv], [0], None, [bins], [0, 256]\n",
    "        )\n",
    "        h_hist_norm = normalizeHist(h)\n",
    "        s = cv.calcHist(\n",
    "            [img_hsv], [1], None, [bins], [0, 256]\n",
    "        )\n",
    "        s_hist_norm = normalizeHist(s)\n",
    "        v = cv.calcHist(\n",
    "            [img_hsv], [2], None, [bins], [0, 256]\n",
    "        )\n",
    "        v_hist_norm = normalizeHist(v)\n",
    "        vector = np.concatenate([h_hist_norm, s_hist_norm, v_hist_norm], axis=0)\n",
    "        vector = vector.reshape(-1)\n",
    "        return vector"
   ]
  },
  {
   "cell_type": "code",
   "execution_count": null,
   "metadata": {},
   "outputs": [],
   "source": [
    "vec5 = get_vector(img,channel=\"rgb\",bins=5)\n",
    "vec11 = get_vector(img,channel=\"rgb\",bins=11)\n",
    "vec18 = get_vector(img,channel=\"rgb\",bins=18)\n",
    "# vec28 = get_vector(img,channel=\"rgb\",bins=28)\n",
    "# vec43 = get_vector(img,channel=\"rgb\",bins=43)\n",
    "# vec64 = get_vector(img,channel=\"rgb\",bins=64)\n",
    "# vec100 = get_vector(img,channel=\"rgb\",bins=100)"
   ]
  },
  {
   "cell_type": "code",
   "execution_count": null,
   "metadata": {},
   "outputs": [],
   "source": [
    "vec5.shape,vec11.shape, vec18.shape"
   ]
  },
  {
   "cell_type": "code",
   "execution_count": null,
   "metadata": {},
   "outputs": [],
   "source": [
    "# hist_feats = []\n",
    "# for img_path in df[\"path\"]:\n",
    "#     img = cv.imread(img_path)\n",
    "#     hist_feats.append(list(get_vector(img,bins=16)))"
   ]
  },
  {
   "cell_type": "code",
   "execution_count": null,
   "metadata": {},
   "outputs": [],
   "source": [
    "def extract_hist_features(df,channel,bin):\n",
    "    hist_feats = []\n",
    "    for img_path in df[\"path\"]:\n",
    "        img = cv.imread(img_path)\n",
    "        hist_feats.append(list(get_vector(img,channel=channel,bins=bin)))\n",
    "    return hist_feats"
   ]
  },
  {
   "cell_type": "code",
   "execution_count": null,
   "metadata": {},
   "outputs": [],
   "source": [
    "counter = 0\n",
    "\n",
    "hist_feats_5 = extract_hist_features(df,channel=\"rgb\",bin=5)\n",
    "hist_feats_hsv_5 = extract_hist_features(df,channel=\"hsv\",bin=5)\n",
    "df[\"hist_feats_rgb_5\"]=hist_feats_5\n",
    "df[\"hist_feats_hsv_5\"]=hist_feats_hsv_5\n",
    "\n",
    "counter+=1\n",
    "print(f\"done with {counter}\")\n",
    "\n",
    "hist_feats_11 = extract_hist_features(df,channel=\"rgb\",bin=11)\n",
    "hist_feats_hsv_11 = extract_hist_features(df,channel=\"hsv\",bin=11)\n",
    "df[\"hist_feats_rgb_11\"]=hist_feats_11\n",
    "df[\"hist_feats_hsv_11\"]=hist_feats_hsv_11\n",
    "\n",
    "counter+=1\n",
    "print(f\"done with {counter}\")\n",
    "\n",
    "hist_feats_18 = extract_hist_features(df,channel=\"rgb\",bin=18)\n",
    "hist_feats_hsv_18 = extract_hist_features(df,channel=\"hsv\",bin=18)\n",
    "df[\"hist_feats_rgb_18\"]=hist_feats_18\n",
    "df[\"hist_feats_hsv_18\"]=hist_feats_hsv_18\n",
    "\n",
    "counter+=1\n",
    "print(f\"done with {counter}\")\n",
    "\n",
    "hist_feats_28 = extract_hist_features(df,channel=\"rgb\",bin=28)\n",
    "hist_feats_hsv_28 = extract_hist_features(df,channel=\"hsv\",bin=28)\n",
    "df[\"hist_feats_rgb_28\"]=hist_feats_28\n",
    "df[\"hist_feats_hsv_28\"]=hist_feats_hsv_28\n",
    "\n",
    "counter+=1\n",
    "print(f\"done with {counter}\")\n",
    "\n",
    "hist_feats_43 = extract_hist_features(df,channel=\"rgb\",bin=43)\n",
    "hist_feats_hsv_43 = extract_hist_features(df,channel=\"hsv\",bin=43)\n",
    "df[\"hist_feats_rgb_43\"]=hist_feats_43\n",
    "df[\"hist_feats_hsv_43\"]=hist_feats_hsv_43\n",
    "\n",
    "counter+=1\n",
    "print(f\"done with {counter}\")\n",
    "\n",
    "hist_feats_64 = extract_hist_features(df,channel=\"rgb\",bin=64)\n",
    "hist_feats_hsv_64 = extract_hist_features(df,channel=\"hsv\",bin=64)\n",
    "df[\"hist_feats_rgb_64\"]=hist_feats_64\n",
    "df[\"hist_feats_hsv_64\"]=hist_feats_hsv_64\n",
    "\n",
    "counter+=1\n",
    "print(f\"done with {counter}\")\n",
    "\n",
    "hist_feats_100 = extract_hist_features(df,channel=\"rgb\",bin=100)\n",
    "hist_feats_hsv_100 = extract_hist_features(df,channel=\"hsv\",bin=100)\n",
    "df[\"hist_feats_rgb_100\"]=hist_feats_100\n",
    "df[\"hist_feats_hsv_100\"]=hist_feats_hsv_100\n",
    "\n",
    "counter+=1\n",
    "print(f\"done with {counter}\")\n"
   ]
  },
  {
   "cell_type": "code",
   "execution_count": null,
   "metadata": {},
   "outputs": [],
   "source": [
    "df.head()"
   ]
  },
  {
   "cell_type": "code",
   "execution_count": null,
   "metadata": {},
   "outputs": [],
   "source": [
    "df.to_csv(base_dir.joinpath(\"randomHotelsFeats2.csv\"),index=False)"
   ]
  },
  {
   "cell_type": "code",
   "execution_count": null,
   "metadata": {},
   "outputs": [],
   "source": [
    "df.to_pickle(base_dir.joinpath(\"randomHotelsFeats2.pkl\"))"
   ]
  }
 ],
 "metadata": {
  "kernelspec": {
   "display_name": "pt",
   "language": "python",
   "name": "pt"
  },
  "language_info": {
   "codemirror_mode": {
    "name": "ipython",
    "version": 3
   },
   "file_extension": ".py",
   "mimetype": "text/x-python",
   "name": "python",
   "nbconvert_exporter": "python",
   "pygments_lexer": "ipython3",
   "version": "3.9.18"
  }
 },
 "nbformat": 4,
 "nbformat_minor": 2
}
