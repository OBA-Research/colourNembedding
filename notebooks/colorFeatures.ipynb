{
 "cells": [
  {
   "cell_type": "code",
   "execution_count": null,
   "metadata": {},
   "outputs": [],
   "source": [
    "import pyfeats\n",
    "from Pylette import extract_colors\n",
    "from PIL import Image, ImageOps\n",
    "import cv2 as cv\n",
    "import numpy as np\n",
    "import matplotlib.pyplot as plt\n",
    "import os\n",
    "import random\n",
    "random.seed(10)\n",
    "import pandas as pd"
   ]
  },
  {
   "cell_type": "code",
   "execution_count": null,
   "metadata": {},
   "outputs": [],
   "source": [
    "\n",
    "base_dir = \"/Users/yhemmy/Documents/code/hotel-id-experiments/dataset/randomHotels/\"\n",
    "hotels_path = base_dir+\"hotels_256x256\"\n",
    "df_path = base_dir+\"randomHotels_1000.csv\"\n",
    "df = pd.read_csv(df_path)\n",
    "\n",
    "img_dirs = []\n",
    "for ind,row in df.iterrows():\n",
    "    image_id = row[\"image_id\"]\n",
    "    hotel_id = str(row[\"hotel_id\"])\n",
    "    img_path = hotels_path+\"/\"+hotel_id+\"/\"+image_id\n",
    "    img_dirs.append(img_path)\n",
    "\n",
    "\n"
   ]
  },
  {
   "cell_type": "code",
   "execution_count": null,
   "metadata": {},
   "outputs": [],
   "source": [
    "len(img_dirs)"
   ]
  },
  {
   "cell_type": "code",
   "execution_count": null,
   "metadata": {},
   "outputs": [],
   "source": [
    "df.shape"
   ]
  },
  {
   "cell_type": "code",
   "execution_count": null,
   "metadata": {},
   "outputs": [],
   "source": [
    "df[\"path\"] =img_dirs\n",
    "df.head()"
   ]
  },
  {
   "cell_type": "markdown",
   "metadata": {},
   "source": [
    "# ColorSpace features Extraction"
   ]
  },
  {
   "cell_type": "markdown",
   "metadata": {},
   "source": [
    "### 1. Moments per color channel in a colorspace e.g HSV"
   ]
  },
  {
   "cell_type": "code",
   "execution_count": null,
   "metadata": {},
   "outputs": [],
   "source": [
    "img_dir = img_dirs[0]"
   ]
  },
  {
   "cell_type": "code",
   "execution_count": null,
   "metadata": {},
   "outputs": [],
   "source": [
    "img = cv.imread(img_dir)\n",
    "img = cv.resize(img,(224,224))\n",
    "img.shape"
   ]
  },
  {
   "cell_type": "code",
   "execution_count": null,
   "metadata": {},
   "outputs": [],
   "source": [
    "img_hsv = cv.cvtColor(img,cv.COLOR_BGR2HSV_FULL)"
   ]
  },
  {
   "cell_type": "code",
   "execution_count": null,
   "metadata": {},
   "outputs": [],
   "source": [
    "H, S, V = cv.split(img_hsv)\n",
    "H, S, V = H/180.0, S/255.0, V/255.0"
   ]
  },
  {
   "cell_type": "code",
   "execution_count": null,
   "metadata": {},
   "outputs": [],
   "source": [
    "fig, axes = plt.subplots(nrows=1, ncols=5, figsize=(20,5))\n",
    "axes[0].imshow(img)\n",
    "axes[1].imshow(img_hsv)\n",
    "axes[2].imshow(H)\n",
    "axes[3].imshow(S)\n",
    "axes[4].imshow(V)\n"
   ]
  },
  {
   "cell_type": "code",
   "execution_count": null,
   "metadata": {},
   "outputs": [],
   "source": [
    "ROI = np.ones_like(S)\n",
    "H.shape, S.shape, V.shape, ROI.shape\n"
   ]
  },
  {
   "cell_type": "code",
   "execution_count": null,
   "metadata": {},
   "outputs": [],
   "source": [
    "np.max(H)"
   ]
  },
  {
   "cell_type": "code",
   "execution_count": null,
   "metadata": {},
   "outputs": [],
   "source": [
    "features, labels = pyfeats.fos(H,ROI)\n",
    "features"
   ]
  },
  {
   "cell_type": "code",
   "execution_count": null,
   "metadata": {},
   "outputs": [],
   "source": [
    "labels"
   ]
  },
  {
   "cell_type": "code",
   "execution_count": null,
   "metadata": {},
   "outputs": [],
   "source": [
    "features, labels = pyfeats.fos(S,ROI)\n",
    "features"
   ]
  },
  {
   "cell_type": "code",
   "execution_count": null,
   "metadata": {},
   "outputs": [],
   "source": [
    "features, labels = pyfeats.fos(V,ROI)\n",
    "features"
   ]
  },
  {
   "cell_type": "markdown",
   "metadata": {},
   "source": [
    "### 2. Moments for a Normalized image in a colorspace e.g HSV "
   ]
  },
  {
   "cell_type": "code",
   "execution_count": null,
   "metadata": {},
   "outputs": [],
   "source": [
    "features, labels = pyfeats.fos(img_hsv/255.0,None)\n",
    "features"
   ]
  },
  {
   "cell_type": "markdown",
   "metadata": {},
   "source": [
    "### 3. N Dominant color proportion in an image "
   ]
  },
  {
   "cell_type": "code",
   "execution_count": null,
   "metadata": {},
   "outputs": [],
   "source": [
    "palette = extract_colors(image=img_dir,palette_size=5,resize=True,mode='MC', sort_mode='luminance')\n",
    "# palette = extract_colors(image=img_dir,palette_size=10,resize=True,mode='KM',sort_mode='frequency')"
   ]
  },
  {
   "cell_type": "code",
   "execution_count": null,
   "metadata": {},
   "outputs": [],
   "source": [
    "palette.display()"
   ]
  },
  {
   "cell_type": "code",
   "execution_count": null,
   "metadata": {},
   "outputs": [],
   "source": [
    "frequencies = [c.freq for c in palette]\n",
    "frequencies\n"
   ]
  },
  {
   "cell_type": "code",
   "execution_count": null,
   "metadata": {},
   "outputs": [],
   "source": [
    "sum(frequencies)"
   ]
  },
  {
   "cell_type": "code",
   "execution_count": null,
   "metadata": {},
   "outputs": [],
   "source": []
  },
  {
   "cell_type": "markdown",
   "metadata": {},
   "source": [
    "### 4. N Dominant color proportion for a hotel view to HSV values"
   ]
  },
  {
   "cell_type": "code",
   "execution_count": null,
   "metadata": {},
   "outputs": [],
   "source": [
    "hotel_imgs_dir = \"/Users/yhemmy/Documents/code/hotel-id-experiments/dataset/kaggle/hotel-id-2022-fgvc9/train_images/430\"\n",
    "hotel_image_list = os.listdir(hotel_imgs_dir)\n",
    "hotel_imgs = [hotel_imgs_dir+\"/\"+ i for i in hotel_image_list]\n",
    "# print(len(hotel_imgs))\n",
    "img_color_features = []\n",
    "for img_dir in hotel_imgs:\n",
    "    color_space_features = []\n",
    "    palette = extract_colors(image=img_dir,palette_size=5,resize=True,sort_mode='luminance')\n",
    "    for color in palette:\n",
    "       color_space_features.extend(color.hsv)\n",
    "    img_color_features.append(color_space_features)\n",
    "    # break\n",
    "\n",
    "\n",
    "# 'get_colors',\n",
    "#  'hls',\n",
    "#  'hsv',\n",
    "#  'luminance',\n",
    "#  'rgb']\n",
    "    \n",
    "\n",
    "# img = cv.imread(img_dir)\n",
    "# img = cv.resize(img,(224,224))\n",
    "# img.shape"
   ]
  },
  {
   "cell_type": "code",
   "execution_count": null,
   "metadata": {},
   "outputs": [],
   "source": [
    "def getNDominantcolor(paths,colorspace=\"hsv\",palette_size=5,resize=False,mode=\"MC\",sort_mode='luminance'):\n",
    "    img_color_features = []\n",
    "    for img_path in paths:\n",
    "        color_space_features = []\n",
    "        palette = extract_colors(image=img_path,palette_size=palette_size,resize=resize,mode=mode,sort_mode=sort_mode)\n",
    "        for color in palette:\n",
    "            if colorspace==\"hsv\":\n",
    "                color_space_features.extend(color.hsv)\n",
    "            elif colorspace==\"rgb\": \n",
    "                color_space_features.extend(color.rgb)  \n",
    "            else:\n",
    "                raise Exception(f\"{colorspace} not implemented yet\")\n",
    "        img_color_features.append(color_space_features)\n",
    "    return img_color_features\n",
    "\n",
    "NDomColorFeats = getNDominantcolor(df[\"path\"])\n",
    "NDomColorFeats_rgb = getNDominantcolor(df[\"path\"],colorspace=\"rgb\")"
   ]
  },
  {
   "cell_type": "code",
   "execution_count": null,
   "metadata": {},
   "outputs": [],
   "source": [
    "#scale hsv features\n",
    "hsv_feats = []\n",
    "for feat in NDomColorFeats:\n",
    "    hsv_feats.append([i/360 if i>=1 else i for i in feat ])"
   ]
  },
  {
   "cell_type": "code",
   "execution_count": null,
   "metadata": {},
   "outputs": [],
   "source": [
    "hsv_feats = np.round(np.array(hsv_feats),decimals=4).tolist()"
   ]
  },
  {
   "cell_type": "code",
   "execution_count": null,
   "metadata": {},
   "outputs": [],
   "source": [
    "rgb_feats =(np.round(np.array(NDomColorFeats_rgb)/255,decimals=4)).tolist()"
   ]
  },
  {
   "cell_type": "code",
   "execution_count": null,
   "metadata": {},
   "outputs": [],
   "source": [
    "df[\"hsv_feats\"] = hsv_feats\n",
    "df[\"rgb_feats\"] = rgb_feats"
   ]
  },
  {
   "cell_type": "code",
   "execution_count": null,
   "metadata": {},
   "outputs": [],
   "source": [
    "df.head()"
   ]
  },
  {
   "cell_type": "markdown",
   "metadata": {},
   "source": [
    "5. ### Color Histogram and Marginal Histograms"
   ]
  },
  {
   "cell_type": "code",
   "execution_count": null,
   "metadata": {},
   "outputs": [],
   "source": [
    "red_hist = cv.calcHist(\n",
    "    [img], [2], None, [64], [0, 256]\n",
    ")\n",
    "green_hist = cv.calcHist(\n",
    "    [img], [1], None, [64], [0, 256]\n",
    ")\n",
    "blue_hist = cv.calcHist(\n",
    "    [img], [0], None, [64], [0, 256]\n",
    ")\n",
    "\n",
    "red_hist.shape"
   ]
  },
  {
   "cell_type": "code",
   "execution_count": null,
   "metadata": {},
   "outputs": [],
   "source": [
    "fig, axs = plt.subplots(1, 3, figsize=(15, 4), sharey=True)\n",
    "axs[0].plot(red_hist, color='r')\n",
    "axs[1].plot(green_hist, color='g')\n",
    "axs[2].plot(blue_hist, color='b')\n",
    "plt.show()"
   ]
  },
  {
   "cell_type": "code",
   "execution_count": null,
   "metadata": {},
   "outputs": [],
   "source": [
    "# Normalized \n",
    "red_hist_norm = ((red_hist-min(red_hist))/(max(red_hist)-min(red_hist))) \n",
    "green_hist_norm = ((green_hist-min(green_hist))/(max(green_hist)-min(green_hist))) \n",
    "blue_hist_norm = ((blue_hist-min(blue_hist))/(max(blue_hist)-min(blue_hist))) "
   ]
  },
  {
   "cell_type": "code",
   "execution_count": null,
   "metadata": {},
   "outputs": [],
   "source": [
    "def normalizeHist(hist):\n",
    "    normalize_hist = ((hist-min(hist))/(max(hist)-min(hist)))\n",
    "    return normalize_hist"
   ]
  },
  {
   "cell_type": "code",
   "execution_count": null,
   "metadata": {},
   "outputs": [],
   "source": [
    "fig, axs = plt.subplots(1, 3, figsize=(15, 4), sharey=True)\n",
    "axs[0].plot(red_hist_norm, color='r')\n",
    "axs[1].plot(green_hist_norm, color='g')\n",
    "axs[2].plot(blue_hist_norm, color='b')\n",
    "plt.show()"
   ]
  },
  {
   "cell_type": "code",
   "execution_count": null,
   "metadata": {},
   "outputs": [],
   "source": [
    "def get_vector(image, bins=16):\n",
    "    red = cv.calcHist(\n",
    "        [image], [2], None, [bins], [0, 256]\n",
    "    )\n",
    "    red_hist_norm = normalizeHist(red)\n",
    "    green = cv.calcHist(\n",
    "        [image], [1], None, [bins], [0, 256]\n",
    "    )\n",
    "    green_hist_norm = normalizeHist(green)\n",
    "    blue = cv.calcHist(\n",
    "        [image], [0], None, [bins], [0, 256]\n",
    "    )\n",
    "    blue_hist_norm = normalizeHist(blue)\n",
    "    vector = np.concatenate([red_hist_norm, green_hist_norm, blue_hist_norm], axis=0)\n",
    "    vector = vector.reshape(-1)\n",
    "    # normalize_vector = vector/max(vector)\n",
    "    return vector"
   ]
  },
  {
   "cell_type": "code",
   "execution_count": null,
   "metadata": {},
   "outputs": [],
   "source": [
    "vec = get_vector(img,16)\n",
    "vec"
   ]
  },
  {
   "cell_type": "code",
   "execution_count": null,
   "metadata": {},
   "outputs": [],
   "source": [
    "vec.shape"
   ]
  },
  {
   "cell_type": "code",
   "execution_count": null,
   "metadata": {},
   "outputs": [],
   "source": [
    "hist_feats = []\n",
    "for img_path in df[\"path\"]:\n",
    "    img = cv.imread(img_path)\n",
    "    hist_feats.append(list(get_vector(img,bins=16)))"
   ]
  },
  {
   "cell_type": "code",
   "execution_count": null,
   "metadata": {},
   "outputs": [],
   "source": [
    "df[\"hist_feats\"]=hist_feats"
   ]
  },
  {
   "cell_type": "code",
   "execution_count": null,
   "metadata": {},
   "outputs": [],
   "source": [
    "df.head()"
   ]
  },
  {
   "cell_type": "code",
   "execution_count": null,
   "metadata": {},
   "outputs": [],
   "source": [
    "df.to_csv(base_dir+\"randomHotelsFeats.csv\",index=False)"
   ]
  },
  {
   "cell_type": "code",
   "execution_count": null,
   "metadata": {},
   "outputs": [],
   "source": [
    "df.to_pickle(base_dir+\"randomHotelsFeats.pkl\")"
   ]
  }
 ],
 "metadata": {
  "kernelspec": {
   "display_name": "pt",
   "language": "python",
   "name": "python3"
  },
  "language_info": {
   "codemirror_mode": {
    "name": "ipython",
    "version": 3
   },
   "file_extension": ".py",
   "mimetype": "text/x-python",
   "name": "python",
   "nbconvert_exporter": "python",
   "pygments_lexer": "ipython3",
   "version": "3.9.18"
  }
 },
 "nbformat": 4,
 "nbformat_minor": 2
}
