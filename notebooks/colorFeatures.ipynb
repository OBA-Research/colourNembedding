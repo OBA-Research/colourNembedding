{
 "cells": [
  {
   "cell_type": "code",
   "execution_count": null,
   "metadata": {},
   "outputs": [],
   "source": [
    "import pyfeats\n",
    "from Pylette import extract_colors\n",
    "from PIL import Image, ImageOps\n",
    "import cv2 as cv\n",
    "import numpy as np\n",
    "import matplotlib.pyplot as plt\n",
    "import os\n",
    "import random\n",
    "random.seed(2024)\n",
    "import pandas as pd\n",
    "\n",
    "from pathlib import Path"
   ]
  },
  {
   "cell_type": "code",
   "execution_count": null,
   "metadata": {},
   "outputs": [],
   "source": [
    "\n",
    "base_dir = Path().absolute().parents[0].joinpath(\"dataset\",\"randomHotels\")\n",
    "\n",
    "hotels_path = base_dir.joinpath(\"hotels_256x256\")\n",
    "df_path = base_dir.joinpath(\"randomHotels_1000.csv\")\n",
    "df = pd.read_csv(df_path)\n",
    "df.head()"
   ]
  },
  {
   "cell_type": "code",
   "execution_count": null,
   "metadata": {},
   "outputs": [],
   "source": [
    "img_dirs = []\n",
    "for ind,row in df.iterrows():\n",
    "    image_id = row[\"image_id\"]\n",
    "    hotel_id = str(row[\"hotel_id\"])\n",
    "    # img_path = hotels_path+\"/\"+hotel_id+\"/\"+image_id\n",
    "    img_path = hotels_path.joinpath(hotel_id,image_id)\n",
    "    # print(str(img_path))\n",
    "    # break\n",
    "    img_dirs.append(str(img_path))"
   ]
  },
  {
   "cell_type": "code",
   "execution_count": null,
   "metadata": {},
   "outputs": [],
   "source": [
    "len(img_dirs)"
   ]
  },
  {
   "cell_type": "code",
   "execution_count": null,
   "metadata": {},
   "outputs": [],
   "source": [
    "df.shape"
   ]
  },
  {
   "cell_type": "code",
   "execution_count": null,
   "metadata": {},
   "outputs": [],
   "source": [
    "df[\"path\"] =img_dirs\n",
    "df.head()"
   ]
  },
  {
   "cell_type": "markdown",
   "metadata": {},
   "source": [
    "# ColorSpace features Extraction"
   ]
  },
  {
   "cell_type": "markdown",
   "metadata": {},
   "source": [
    "### 1. Moments per color channel in a colorspace e.g HSV"
   ]
  },
  {
   "cell_type": "code",
   "execution_count": null,
   "metadata": {},
   "outputs": [],
   "source": [
    "img_dir = img_dirs[5]"
   ]
  },
  {
   "cell_type": "code",
   "execution_count": null,
   "metadata": {},
   "outputs": [],
   "source": [
    "img = cv.imread(img_dir)\n",
    "img = cv.resize(img,(224,224))\n",
    "img.shape"
   ]
  },
  {
   "cell_type": "code",
   "execution_count": null,
   "metadata": {},
   "outputs": [],
   "source": [
    "img_hsv = cv.cvtColor(img,cv.COLOR_BGR2HSV_FULL)"
   ]
  },
  {
   "cell_type": "code",
   "execution_count": null,
   "metadata": {},
   "outputs": [],
   "source": [
    "H, S, V = cv.split(img_hsv)\n",
    "H, S, V = H/255.0, S/255.0, V/255.0\n",
    "V.min()"
   ]
  },
  {
   "cell_type": "code",
   "execution_count": null,
   "metadata": {},
   "outputs": [],
   "source": [
    "fig, axes = plt.subplots(nrows=1, ncols=4, figsize=(20,5),sharex=True,sharey=True)\n",
    "axes[0].imshow(img_hsv)\n",
    "axes[0].set_title(\"HSV Image\")\n",
    "axes[1].imshow(H)\n",
    "axes[1].set_title(\"Hue Channel\")\n",
    "axes[2].imshow(S)\n",
    "axes[2].set_title(\"Saturation Channel\")\n",
    "axes[3].imshow(V)\n",
    "axes[3].set_title(\"Value Channel\")\n",
    "for ax in axes:\n",
    "    ax.axis('off') \n"
   ]
  },
  {
   "cell_type": "code",
   "execution_count": null,
   "metadata": {},
   "outputs": [],
   "source": [
    "img_rgb = cv.cvtColor(img,cv.COLOR_BGR2RGB)\n",
    "R, G, B = cv.split(img)\n",
    "# R, G, B = R/255.0, G/255.0, B/255.0"
   ]
  },
  {
   "cell_type": "code",
   "execution_count": null,
   "metadata": {},
   "outputs": [],
   "source": [
    "fig, axes = plt.subplots(nrows=1, ncols=4, figsize=(20,5))\n",
    "axes[0].imshow(img)\n",
    "axes[0].set_title(\"RGB Image\")\n",
    "axes[1].imshow(R,cmap='Reds')\n",
    "axes[1].set_title(\"Red Channel\")\n",
    "axes[2].imshow(G,cmap='Greens')\n",
    "axes[2].set_title(\"Greens Channel\")\n",
    "axes[3].imshow(B,cmap=\"Blues\")\n",
    "axes[3].set_title(\"Blue Channel\")\n",
    "for ax in axes:\n",
    "    ax.axis('off') "
   ]
  },
  {
   "cell_type": "code",
   "execution_count": null,
   "metadata": {},
   "outputs": [],
   "source": [
    "ROI = np.ones_like(S)\n",
    "H.shape, S.shape, V.shape, ROI.shape\n"
   ]
  },
  {
   "cell_type": "code",
   "execution_count": null,
   "metadata": {},
   "outputs": [],
   "source": [
    "np.max(H)"
   ]
  },
  {
   "cell_type": "code",
   "execution_count": null,
   "metadata": {},
   "outputs": [],
   "source": [
    "features, labels = pyfeats.fos(H,ROI)\n",
    "features"
   ]
  },
  {
   "cell_type": "code",
   "execution_count": null,
   "metadata": {},
   "outputs": [],
   "source": [
    "labels"
   ]
  },
  {
   "cell_type": "code",
   "execution_count": null,
   "metadata": {},
   "outputs": [],
   "source": [
    "features, labels = pyfeats.fos(S,ROI)\n",
    "features"
   ]
  },
  {
   "cell_type": "code",
   "execution_count": null,
   "metadata": {},
   "outputs": [],
   "source": [
    "features, labels = pyfeats.fos(V,ROI)\n",
    "features"
   ]
  },
  {
   "cell_type": "markdown",
   "metadata": {},
   "source": [
    "### 2. Moments for a Normalized image in a colorspace e.g HSV "
   ]
  },
  {
   "cell_type": "code",
   "execution_count": null,
   "metadata": {},
   "outputs": [],
   "source": [
    "features, labels = pyfeats.fos(img_hsv/255.0,None)\n",
    "features"
   ]
  },
  {
   "cell_type": "markdown",
   "metadata": {},
   "source": [
    "### 3. N Dominant color proportion in an image "
   ]
  },
  {
   "cell_type": "code",
   "execution_count": null,
   "metadata": {},
   "outputs": [],
   "source": []
  },
  {
   "cell_type": "code",
   "execution_count": null,
   "metadata": {},
   "outputs": [],
   "source": [
    "# img_dir = img_dirs[515]\n",
    "img_dir = \"/Users/yhemmy/Documents/code/PhD_Codebase/hotel-id-experiments/dataset/kaggle/hotel-id-2022-fgvc9/train_images/198617/000010216.jpg\"\n",
    "img = cv.imread(img_dir)\n",
    "img = cv.cvtColor(img,cv.COLOR_BGR2RGB)\n",
    "img = cv.resize(img,(224,224))\n",
    "plt.imshow(img)"
   ]
  },
  {
   "cell_type": "code",
   "execution_count": null,
   "metadata": {},
   "outputs": [],
   "source": [
    "palette5 = extract_colors(image=img_dir,palette_size=5,resize=True,mode='MC', sort_mode='luminance')\n",
    "palette10 = extract_colors(image=img_dir,palette_size=10,resize=True,mode='MC', sort_mode='luminance')\n",
    "palette15 = extract_colors(image=img_dir,palette_size=15,resize=True,mode='MC', sort_mode='luminance')\n",
    "\n",
    "# palette = extract_colors(image=img_dir,palette_size=10,resize=True,mode='KM',sort_mode='frequency')"
   ]
  },
  {
   "cell_type": "code",
   "execution_count": null,
   "metadata": {},
   "outputs": [],
   "source": [
    "palette5.display()\n",
    "palette10.display()\n",
    "palette15.display()"
   ]
  },
  {
   "cell_type": "code",
   "execution_count": null,
   "metadata": {},
   "outputs": [],
   "source": [
    "palette5[0].rgb"
   ]
  },
  {
   "cell_type": "code",
   "execution_count": null,
   "metadata": {},
   "outputs": [],
   "source": [
    "frequencies = [c.freq for c in palette]\n",
    "frequencies\n"
   ]
  },
  {
   "cell_type": "code",
   "execution_count": null,
   "metadata": {},
   "outputs": [],
   "source": [
    "sum(frequencies)"
   ]
  },
  {
   "cell_type": "code",
   "execution_count": null,
   "metadata": {},
   "outputs": [],
   "source": []
  },
  {
   "cell_type": "markdown",
   "metadata": {},
   "source": [
    "### 4. N Dominant color proportion for a hotel view to HSV values"
   ]
  },
  {
   "cell_type": "code",
   "execution_count": null,
   "metadata": {},
   "outputs": [],
   "source": [
    "# hotel_imgs_dir = \"/Users/yhemmy/Documents/code/hotel-id-experiments/dataset/kaggle/hotel-id-2022-fgvc9/train_images/430\"\n",
    "# hotel_image_list = os.listdir(hotel_imgs_dir)\n",
    "# hotel_imgs = [hotel_imgs_dir+\"/\"+ i for i in hotel_image_list]\n",
    "# # print(len(hotel_imgs))\n",
    "# img_color_features = []\n",
    "# for img_dir in hotel_imgs:\n",
    "#     color_space_features = []\n",
    "#     palette = extract_colors(image=img_dir,palette_size=5,resize=True,sort_mode='luminance')\n",
    "#     for color in palette:\n",
    "#        color_space_features.extend(color.hsv)\n",
    "#     img_color_features.append(color_space_features)\n",
    "#     # break\n",
    "\n",
    "\n",
    "# # 'get_colors',\n",
    "# #  'hls',\n",
    "# #  'hsv',\n",
    "# #  'luminance',\n",
    "# #  'rgb']\n",
    "    \n",
    "\n",
    "# # img = cv.imread(img_dir)\n",
    "# # img = cv.resize(img,(224,224))\n",
    "# # img.shape"
   ]
  },
  {
   "cell_type": "code",
   "execution_count": null,
   "metadata": {},
   "outputs": [],
   "source": [
    "def getNDominantcolor(paths,colorspace=\"hsv\",palette_size=5,resize=False,mode=\"MC\",sort_mode='luminance'):\n",
    "    img_color_features = []\n",
    "    for img_path in paths:\n",
    "        color_space_features = []\n",
    "        palette = extract_colors(image=img_path,palette_size=palette_size,resize=resize,mode=mode,sort_mode=sort_mode)\n",
    "        for color in palette:\n",
    "            if colorspace==\"hsv\":\n",
    "                color_space_features.extend(color.hsv)\n",
    "            elif colorspace==\"rgb\": \n",
    "                color_space_features.extend(color.rgb)  \n",
    "            else:\n",
    "                raise Exception(f\"{colorspace} not implemented yet\")\n",
    "        img_color_features.append(color_space_features)\n",
    "    return img_color_features"
   ]
  },
  {
   "cell_type": "code",
   "execution_count": null,
   "metadata": {},
   "outputs": [],
   "source": [
    "NDomColorFeats = getNDominantcolor(df[\"path\"])\n",
    "NDomColorFeats_rgb = getNDominantcolor(df[\"path\"],colorspace=\"rgb\")"
   ]
  },
  {
   "cell_type": "code",
   "execution_count": null,
   "metadata": {},
   "outputs": [],
   "source": [
    "NDomColorFeats_10 = getNDominantcolor(df[\"path\"],palette_size=10)\n",
    "NDomColorFeats_rgb_10 = getNDominantcolor(df[\"path\"],colorspace=\"rgb\",palette_size=10)\n",
    "\n",
    "NDomColorFeats_15 = getNDominantcolor(df[\"path\"],palette_size=15)\n",
    "NDomColorFeats_rgb_15 = getNDominantcolor(df[\"path\"],colorspace=\"rgb\",palette_size=15)"
   ]
  },
  {
   "cell_type": "code",
   "execution_count": null,
   "metadata": {},
   "outputs": [],
   "source": [
    "#scale features\n",
    "def scale_features(NDomColorFeats,NDomColorFeats_rgb):\n",
    "\n",
    "    hsv_feats = []\n",
    "    for feat in NDomColorFeats:\n",
    "        hsv_feats.append([i/360 if i>=1 else i for i in feat ])\n",
    "    hsv_feats = np.round(np.array(hsv_feats),decimals=4).tolist()\n",
    "\n",
    "    rgb_feats =(np.round(np.array(NDomColorFeats_rgb)/255,decimals=4)).tolist()\n",
    "    return hsv_feats, rgb_feats"
   ]
  },
  {
   "cell_type": "code",
   "execution_count": null,
   "metadata": {},
   "outputs": [],
   "source": [
    "hsv_feats, rgb_feats = scale_features(NDomColorFeats,NDomColorFeats_rgb)\n",
    "df[\"hsv_feats\"] = hsv_feats\n",
    "df[\"rgb_feats\"] = rgb_feats"
   ]
  },
  {
   "cell_type": "code",
   "execution_count": null,
   "metadata": {},
   "outputs": [],
   "source": [
    "hsv_feats, rgb_feats = scale_features(NDomColorFeats_10,NDomColorFeats_rgb_10)\n",
    "df[\"hsv_feats_10\"] = hsv_feats\n",
    "df[\"rgb_feats_10\"] = rgb_feats"
   ]
  },
  {
   "cell_type": "code",
   "execution_count": null,
   "metadata": {},
   "outputs": [],
   "source": [
    "hsv_feats, rgb_feats = scale_features(NDomColorFeats_15,NDomColorFeats_rgb_15)\n",
    "df[\"hsv_feats_15\"] = hsv_feats\n",
    "df[\"rgb_feats_15\"] = rgb_feats"
   ]
  },
  {
   "cell_type": "code",
   "execution_count": null,
   "metadata": {},
   "outputs": [],
   "source": [
    "df.tail()"
   ]
  },
  {
   "cell_type": "markdown",
   "metadata": {},
   "source": [
    "5. ### Color Histogram and Marginal Histograms"
   ]
  },
  {
   "cell_type": "code",
   "execution_count": null,
   "metadata": {},
   "outputs": [],
   "source": [
    "red_hist = cv.calcHist(\n",
    "    [img], [2], None, [64], [0, 256]\n",
    ")\n",
    "green_hist = cv.calcHist(\n",
    "    [img], [1], None, [64], [0, 256]\n",
    ")\n",
    "blue_hist = cv.calcHist(\n",
    "    [img], [0], None, [64], [0, 256]\n",
    ")\n",
    "\n",
    "red_hist.shape"
   ]
  },
  {
   "cell_type": "code",
   "execution_count": null,
   "metadata": {},
   "outputs": [],
   "source": [
    "fig, axs = plt.subplots(1, 3, figsize=(15, 4), sharey=True)\n",
    "axs[0].plot(red_hist, color='r')\n",
    "axs[1].plot(green_hist, color='g')\n",
    "axs[2].plot(blue_hist, color='b')\n",
    "plt.show()"
   ]
  },
  {
   "cell_type": "code",
   "execution_count": null,
   "metadata": {},
   "outputs": [],
   "source": [
    "# Normalized \n",
    "red_hist_norm = ((red_hist-min(red_hist))/(max(red_hist)-min(red_hist))) \n",
    "green_hist_norm = ((green_hist-min(green_hist))/(max(green_hist)-min(green_hist))) \n",
    "blue_hist_norm = ((blue_hist-min(blue_hist))/(max(blue_hist)-min(blue_hist))) "
   ]
  },
  {
   "cell_type": "code",
   "execution_count": null,
   "metadata": {},
   "outputs": [],
   "source": [
    "def normalizeHist(hist):\n",
    "    normalize_hist = ((hist-min(hist))/(max(hist)-min(hist)))\n",
    "    return normalize_hist"
   ]
  },
  {
   "cell_type": "code",
   "execution_count": null,
   "metadata": {},
   "outputs": [],
   "source": [
    "fig, axs = plt.subplots(1, 3, figsize=(15, 4), sharey=True)\n",
    "axs[0].plot(red_hist_norm, color='r')\n",
    "axs[1].plot(green_hist_norm, color='g')\n",
    "axs[2].plot(blue_hist_norm, color='b')\n",
    "plt.show()"
   ]
  },
  {
   "cell_type": "code",
   "execution_count": null,
   "metadata": {},
   "outputs": [],
   "source": [
    "img_hsv = cv.cvtColor(img,cv.COLOR_BGR2HSV_FULL)\n",
    "\n",
    "red_hist = cv.calcHist(\n",
    "    [img_hsv], [0], None, [64], [0, 256]\n",
    ")\n",
    "green_hist = cv.calcHist(\n",
    "    [img_hsv], [1], None, [64], [0, 256]\n",
    ")\n",
    "blue_hist = cv.calcHist(\n",
    "    [img_hsv], [2], None, [64], [0, 256]\n",
    ")\n",
    "\n",
    "red_hist.shape"
   ]
  },
  {
   "cell_type": "code",
   "execution_count": null,
   "metadata": {},
   "outputs": [],
   "source": [
    "fig, axs = plt.subplots(1, 3, figsize=(15, 4), sharey=True)\n",
    "axs[0].plot(red_hist, color='r')\n",
    "axs[1].plot(green_hist, color='g')\n",
    "axs[2].plot(blue_hist, color='b')\n",
    "plt.show()"
   ]
  },
  {
   "cell_type": "code",
   "execution_count": null,
   "metadata": {},
   "outputs": [],
   "source": [
    "# Normalized \n",
    "red_hist_norm = ((red_hist-min(red_hist))/(max(red_hist)-min(red_hist))) \n",
    "green_hist_norm = ((green_hist-min(green_hist))/(max(green_hist)-min(green_hist))) \n",
    "blue_hist_norm = ((blue_hist-min(blue_hist))/(max(blue_hist)-min(blue_hist))) \n",
    "\n",
    "fig, axs = plt.subplots(1, 3, figsize=(15, 4), sharey=True)\n",
    "axs[0].plot(red_hist_norm, color='r')\n",
    "axs[1].plot(green_hist_norm, color='g')\n",
    "axs[2].plot(blue_hist_norm, color='b')\n",
    "plt.show()"
   ]
  },
  {
   "cell_type": "code",
   "execution_count": null,
   "metadata": {},
   "outputs": [],
   "source": [
    "def get_vector(image,channel, bins=16):\n",
    "    if(channel==\"rgb\"):\n",
    "        red = cv.calcHist(\n",
    "            [image], [2], None, [bins], [0, 256]\n",
    "        )\n",
    "        red_hist_norm = normalizeHist(red)\n",
    "        green = cv.calcHist(\n",
    "            [image], [1], None, [bins], [0, 256]\n",
    "        )\n",
    "        green_hist_norm = normalizeHist(green)\n",
    "        blue = cv.calcHist(\n",
    "            [image], [0], None, [bins], [0, 256]\n",
    "        )\n",
    "        blue_hist_norm = normalizeHist(blue)\n",
    "        vector = np.concatenate([red_hist_norm, green_hist_norm, blue_hist_norm], axis=0)\n",
    "        vector = vector.reshape(-1)\n",
    "        # normalize_vector = vector/max(vector)\n",
    "        return vector\n",
    "    else:\n",
    "        img_hsv = cv.cvtColor(image,cv.COLOR_BGR2HSV_FULL)\n",
    "\n",
    "        h = cv.calcHist(\n",
    "            [img_hsv], [0], None, [bins], [0, 256]\n",
    "        )\n",
    "        h_hist_norm = normalizeHist(h)\n",
    "        s = cv.calcHist(\n",
    "            [img_hsv], [1], None, [bins], [0, 256]\n",
    "        )\n",
    "        s_hist_norm = normalizeHist(s)\n",
    "        v = cv.calcHist(\n",
    "            [img_hsv], [2], None, [bins], [0, 256]\n",
    "        )\n",
    "        v_hist_norm = normalizeHist(v)\n",
    "        vector = np.concatenate([h_hist_norm, s_hist_norm, v_hist_norm], axis=0)\n",
    "        vector = vector.reshape(-1)\n",
    "        return vector"
   ]
  },
  {
   "cell_type": "code",
   "execution_count": null,
   "metadata": {},
   "outputs": [],
   "source": [
    "vec4 = get_vector(img,channel=\"rgb\",bins=4)\n",
    "vec8 = get_vector(img,channel=\"rgb\",bins=8)\n",
    "vec16 = get_vector(img,channel=\"rgb\",bins=16)"
   ]
  },
  {
   "cell_type": "code",
   "execution_count": null,
   "metadata": {},
   "outputs": [],
   "source": [
    "vec4.shape,vec8.shape, vec16.shape"
   ]
  },
  {
   "cell_type": "code",
   "execution_count": null,
   "metadata": {},
   "outputs": [],
   "source": [
    "# hist_feats = []\n",
    "# for img_path in df[\"path\"]:\n",
    "#     img = cv.imread(img_path)\n",
    "#     hist_feats.append(list(get_vector(img,bins=16)))"
   ]
  },
  {
   "cell_type": "code",
   "execution_count": null,
   "metadata": {},
   "outputs": [],
   "source": [
    "def extract_hist_features(df,channel,bin):\n",
    "    hist_feats = []\n",
    "    for img_path in df[\"path\"]:\n",
    "        img = cv.imread(img_path)\n",
    "        hist_feats.append(list(get_vector(img,channel=channel,bins=bin)))\n",
    "    return hist_feats"
   ]
  },
  {
   "cell_type": "code",
   "execution_count": null,
   "metadata": {},
   "outputs": [],
   "source": [
    "hist_feats_4 = extract_hist_features(df,channel=\"rgb\",bin=4)\n",
    "hist_feats_hsv_4 = extract_hist_features(df,channel=\"hsv\",bin=4)\n",
    "df[\"hist_feats_rgb_4\"]=hist_feats_4\n",
    "df[\"hist_feats_hsv_4\"]=hist_feats_hsv_4"
   ]
  },
  {
   "cell_type": "code",
   "execution_count": null,
   "metadata": {},
   "outputs": [],
   "source": [
    "\n",
    "hist_feats_8 = extract_hist_features(df,channel=\"rgb\",bin=8)\n",
    "hist_feats_hsv_8 = extract_hist_features(df,channel=\"hsv\",bin=8)\n",
    "df[\"hist_feats_rgb_8\"]=hist_feats_8\n",
    "df[\"hist_feats_hsv_8\"]=hist_feats_hsv_8"
   ]
  },
  {
   "cell_type": "code",
   "execution_count": null,
   "metadata": {},
   "outputs": [],
   "source": [
    "hist_feats_16 = extract_hist_features(df,channel=\"rgb\",bin=16)\n",
    "hist_feats_hsv_16 = extract_hist_features(df,channel=\"hsv\",bin=16)\n",
    "df[\"hist_feats_rgb_16\"]=hist_feats_16\n",
    "df[\"hist_feats_hsv_16\"]=hist_feats_hsv_16"
   ]
  },
  {
   "cell_type": "code",
   "execution_count": null,
   "metadata": {},
   "outputs": [],
   "source": [
    "df.head()"
   ]
  },
  {
   "cell_type": "code",
   "execution_count": null,
   "metadata": {},
   "outputs": [],
   "source": [
    "df.to_csv(base_dir.joinpath(\"randomHotelsFeats2.csv\"),index=False)"
   ]
  },
  {
   "cell_type": "code",
   "execution_count": null,
   "metadata": {},
   "outputs": [],
   "source": [
    "df.to_pickle(base_dir.joinpath(\"randomHotelsFeats2.pkl\"))"
   ]
  }
 ],
 "metadata": {
  "kernelspec": {
   "display_name": "pt",
   "language": "python",
   "name": "python3"
  },
  "language_info": {
   "codemirror_mode": {
    "name": "ipython",
    "version": 3
   },
   "file_extension": ".py",
   "mimetype": "text/x-python",
   "name": "python",
   "nbconvert_exporter": "python",
   "pygments_lexer": "ipython3",
   "version": "3.9.18"
  }
 },
 "nbformat": 4,
 "nbformat_minor": 2
}
