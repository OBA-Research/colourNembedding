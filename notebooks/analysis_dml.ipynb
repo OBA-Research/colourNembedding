{
 "cells": [
  {
   "cell_type": "code",
   "execution_count": null,
   "metadata": {},
   "outputs": [],
   "source": [
    "import pandas as pd\n",
    "import numpy as np\n",
    "\n",
    "from pathlib import Path\n",
    "import seaborn as sns\n",
    "import matplotlib.pyplot as plt"
   ]
  },
  {
   "cell_type": "code",
   "execution_count": null,
   "metadata": {},
   "outputs": [],
   "source": [
    "base_path = Path().resolve().parent\n",
    "print(base_path)"
   ]
  },
  {
   "cell_type": "code",
   "execution_count": null,
   "metadata": {},
   "outputs": [],
   "source": [
    "base_path = Path().resolve().parent\n",
    "dml_artefacts_path = base_path.joinpath(\"artefacts\",\"dml\",\"logs\")\n",
    "\n",
    "accuracyLogFile = \"accuracies_normalized_HotelTester_level_0_VAL_vs_TRAIN.csv\"\n",
    "\n",
    "dml_metrics_path = dml_artefacts_path.joinpath(\"baseDML\",accuracyLogFile)\n",
    "\n",
    "rgb_metrics_5_path = dml_artefacts_path.joinpath(\"rgb_feats\",accuracyLogFile)\n",
    "rgb_metrics_10_path = dml_artefacts_path.joinpath(\"rgb_feats_10\",accuracyLogFile)\n",
    "rgb_metrics_15_path = dml_artefacts_path.joinpath(\"rgb_feats_15\",accuracyLogFile)\n",
    "\n",
    "hsv_metrics__5_path = dml_artefacts_path.joinpath(\"hsv_feats\",accuracyLogFile)\n",
    "hsv_metrics__10_path = dml_artefacts_path.joinpath(\"hsv_feats_10\",accuracyLogFile)\n",
    "hsv_metrics__15_path = dml_artefacts_path.joinpath(\"hsv_feats_15\",accuracyLogFile)\n",
    "\n",
    "hist_feats_rgb_4_metrics_path = dml_artefacts_path.joinpath(\"hist_feats_rgb_4\",accuracyLogFile)\n",
    "hist_feats_rgb_8_metrics_path = dml_artefacts_path.joinpath(\"hist_feats_rgb_8\",accuracyLogFile)\n",
    "hist_feats_rgb_16_metrics_path = dml_artefacts_path.joinpath(\"hist_feats_rgb_16\",accuracyLogFile)\n",
    "\n",
    "hist_feats_hsv_4_metrics_path = dml_artefacts_path.joinpath(\"hist_feats_hsv_4\",accuracyLogFile)\n",
    "hist_feats_hsv_8_metrics_path = dml_artefacts_path.joinpath(\"hist_feats_hsv_8\",accuracyLogFile)\n",
    "hist_feats_hsv_16_metrics_path = dml_artefacts_path.joinpath(\"hist_feats_hsv_16\",accuracyLogFile)\n"
   ]
  },
  {
   "cell_type": "code",
   "execution_count": null,
   "metadata": {},
   "outputs": [],
   "source": []
  },
  {
   "cell_type": "code",
   "execution_count": null,
   "metadata": {},
   "outputs": [],
   "source": [
    "\n",
    "\n",
    "df_dml = pd.read_csv(dml_metrics_path)\n",
    "\n",
    "df_rgb_5 = pd.read_csv(rgb_metrics_5_path)\n",
    "df_rgb_10 = pd.read_csv(rgb_metrics_10_path)\n",
    "df_rgb_15 = pd.read_csv(rgb_metrics_15_path)\n",
    "\n",
    "df_hsv_5 = pd.read_csv(hsv_metrics__5_path)\n",
    "df_hsv_10 = pd.read_csv(hsv_metrics__10_path)\n",
    "df_hsv_15 = pd.read_csv(hsv_metrics__15_path)\n",
    "\n",
    "df_hist_rgb_4 = pd.read_csv(hist_feats_rgb_4_metrics_path)\n",
    "df_hist_rgb_8 = pd.read_csv(hist_feats_rgb_8_metrics_path)\n",
    "df_hist_rgb_16 = pd.read_csv(hist_feats_rgb_16_metrics_path)\n",
    "\n",
    "df_hist_hsv_4 = pd.read_csv(hist_feats_hsv_4_metrics_path)\n",
    "df_hist_hsv_8 = pd.read_csv(hist_feats_hsv_8_metrics_path)\n",
    "df_hist_hsv_16 = pd.read_csv(hist_feats_hsv_16_metrics_path)"
   ]
  },
  {
   "cell_type": "code",
   "execution_count": null,
   "metadata": {},
   "outputs": [],
   "source": [
    "df_dml[\"exp\"] = \"emb\"\n",
    "\n",
    "df_rgb_5[\"exp\"] = \"emb\" + \"+rgb5\"\n",
    "df_rgb_10[\"exp\"] = \"emb\" + \"+rgb10\"\n",
    "df_rgb_15[\"exp\"] = \"emb\" + \"+rgb15\"\n",
    "\n",
    "df_hsv_5[\"exp\"] = \"emb\" + \"+hsv5\"\n",
    "df_hsv_10[\"exp\"] = \"emb\" + \"+hsv10\"\n",
    "df_hsv_15[\"exp\"] = \"emb\" + \"+hsv15\"\n",
    "\n",
    "df_hist_rgb_4[\"exp\"] = \"emb\" + \"+hist4_rgb\"\n",
    "df_hist_rgb_8[\"exp\"] = \"emb\" + \"+hist8_rgb\"\n",
    "df_hist_rgb_16[\"exp\"] = \"emb\" + \"+hist16_rgb\"\n",
    "\n",
    "df_hist_hsv_4[\"exp\"] = \"emb\" + \"+hist4_hsv\"\n",
    "df_hist_hsv_8[\"exp\"] = \"emb\" + \"+hist8_hsv\"\n",
    "df_hist_hsv_16[\"exp\"] = \"emb\" + \"+hist16_hsv\"\n"
   ]
  },
  {
   "cell_type": "code",
   "execution_count": null,
   "metadata": {},
   "outputs": [],
   "source": [
    "df_list = [df_dml,df_rgb_5,df_rgb_10,df_rgb_15, df_hsv_5, df_hsv_10,df_hsv_15,df_hist_rgb_4,df_hist_rgb_8,df_hist_rgb_16,df_hist_hsv_4,df_hist_hsv_8,df_hist_hsv_16]\n",
    "df_list_rgb = [df_rgb_5,df_rgb_10,df_rgb_15]\n",
    "df_list_hsv = [df_hsv_5, df_hsv_10,df_hsv_15]\n",
    "df_list_hist_rgb = [df_hist_rgb_4,df_hist_rgb_8,df_hist_rgb_16]\n",
    "df_list_hist_hsv = [df_hist_hsv_4,df_hist_hsv_8,df_hist_hsv_16]"
   ]
  },
  {
   "cell_type": "code",
   "execution_count": null,
   "metadata": {},
   "outputs": [],
   "source": [
    "df_dml.head()"
   ]
  },
  {
   "cell_type": "markdown",
   "metadata": {},
   "source": [
    "# Chart 1 to be 2"
   ]
  },
  {
   "cell_type": "code",
   "execution_count": null,
   "metadata": {},
   "outputs": [],
   "source": [
    "data = []\n",
    "for df in df_list_rgb+df_list_hsv:\n",
    "    data.append(df.precision_at_1_level0.max())\n",
    "    data.append(df.best_accuracy.max())\n",
    "\n",
    "df_performance_palette = pd.DataFrame(columns=[\"scores\"],data=data)\n",
    "df_performance_palette\n"
   ]
  },
  {
   "cell_type": "code",
   "execution_count": null,
   "metadata": {},
   "outputs": [],
   "source": [
    "groups =[\"rgb5\",\"rgb10\",\"rgb15\",\"hsv5\",\"hsv10\",\"hsv15\"]\n",
    "cats = [\"Precision@1\",\"MAP@5\"]*len(groups)\n",
    "df_performance_palette[\"metrics\"] = cats\n",
    "\n",
    "\n",
    "exp = []\n",
    "for x in groups:\n",
    "    exp.extend([x]*2)\n",
    "df_performance_palette[\"exps\"] = exp"
   ]
  },
  {
   "cell_type": "code",
   "execution_count": null,
   "metadata": {},
   "outputs": [],
   "source": [
    "df_performance_palette"
   ]
  },
  {
   "cell_type": "code",
   "execution_count": null,
   "metadata": {},
   "outputs": [],
   "source": [
    "\n",
    "df_performance_palette[\"proportion\"] = [10,10,20,20,30,30]*2\n",
    "\n",
    "df_performance_palette[\"colorspace\"] = [\"rgb\"]*6 + [\"hsv\"]*6\n",
    "df_performance_palette"
   ]
  },
  {
   "cell_type": "code",
   "execution_count": null,
   "metadata": {},
   "outputs": [],
   "source": [
    "# df_performance_palette[\"scores\"] = df_performance_palette[\"scores\"]*100\n",
    "df_performance_palette = df_performance_palette.round(3)\n",
    "df_performance_palette"
   ]
  },
  {
   "cell_type": "code",
   "execution_count": null,
   "metadata": {},
   "outputs": [],
   "source": [
    "# g =sns.catplot(kind=\"point\",data=df_performance_palette,x=\"proportion\",y=\"scores\",hue=\"metrics\",\n",
    "#                 palette='crest',col=\"colorspace\",sharex=False,sharey=True)\n",
    "# g.set_xlabels(\"Palette size embedding proportion in %\")\n",
    "# sns.set(style=\"darkgrid\")"
   ]
  },
  {
   "cell_type": "code",
   "execution_count": null,
   "metadata": {},
   "outputs": [],
   "source": [
    "dd = pd.DataFrame(columns=list(df_performance_palette.columns))\n",
    "\n",
    "dd[\"scores\"]=[df_dml[\"precision_at_1_level0\"].max(),df_dml[\"mean_average_precision_level0\"].max()]\n",
    "dd[\"metrics\"] = [\"Precision@1\",\"MAP@5\"]\n",
    "dd[\"exps\"]= ['emb']*2\n",
    "dd[\"proportion\"] = 0\n",
    "\n",
    "df_performance_palette = pd.concat([dd,df_performance_palette],ignore_index=True)\n",
    "df_performance_palette = df_performance_palette.round(3)\n"
   ]
  },
  {
   "cell_type": "markdown",
   "metadata": {},
   "source": [
    "# Chart 2 to be 1"
   ]
  },
  {
   "cell_type": "code",
   "execution_count": null,
   "metadata": {},
   "outputs": [],
   "source": [
    "df_performance_palette"
   ]
  },
  {
   "cell_type": "code",
   "execution_count": null,
   "metadata": {},
   "outputs": [],
   "source": [
    "g = sns.catplot(data=df_performance_palette,kind=\"bar\",x=\"exps\",y=\"scores\",hue=\"metrics\",\n",
    "            errorbar=\"sd\", palette=\"Blues\", alpha=1, height=8,aspect=2)\n",
    "g.despine(left=False)\n",
    "g.set_axis_labels(\"Embedding + Colour Palette Features\", \"Scores\")\n",
    "g.figure.suptitle(\"Deep Metric Learning: Model Peformance on Color Palette Improved Embedding\")\n",
    "g.legend.set_title(\"Metrics\")\n",
    "ax = g.ax\n",
    "\n",
    "for i in ax.containers: \n",
    "    # set color for tallest bar for each metrics  \n",
    "    patch_h = [patch.get_height() for patch in i.patches] \n",
    "    idx_tallest = np.argmax(patch_h) \n",
    "    i.patches[idx_tallest].set_edgecolor('#FF0000')\n",
    "\n",
    "    # set tallest bar label for each metrics\n",
    "    bar_labels = [\"\"]*len(patch_h)\n",
    "    bar_labels[idx_tallest] = np.round(patch_h[idx_tallest],4)\n",
    "    ax.bar_label(i,labels=bar_labels)\n",
    "plt.grid()\n",
    "sns.set(style=\"white\")\n",
    "\n"
   ]
  },
  {
   "cell_type": "markdown",
   "metadata": {},
   "source": [
    "# Histogram"
   ]
  },
  {
   "cell_type": "code",
   "execution_count": null,
   "metadata": {},
   "outputs": [],
   "source": [
    "data = []\n",
    "for df in df_list_hist_rgb+df_list_hist_hsv:\n",
    "    data.append(df.precision_at_1_level0.max()) \n",
    "    data.append(df.best_accuracy.max())\n",
    "\n",
    "df_performance_hist = pd.DataFrame(columns=[\"scores\"],data=data)\n",
    "df_performance_hist\n"
   ]
  },
  {
   "cell_type": "code",
   "execution_count": null,
   "metadata": {},
   "outputs": [],
   "source": [
    "groups =[\"rgb4\",\"rgb8\",\"rgb16\",\"hsv4\",\"hsv8\",\"hsv16\"]\n",
    "cats = [\"Precision@1\",\"MAP@5\"]*len(groups)\n",
    "df_performance_hist[\"metrics\"] = cats\n",
    "\n",
    "\n",
    "exp = []\n",
    "for x in groups:\n",
    "    exp.extend([x]*2)\n",
    "df_performance_hist[\"exps\"] = exp"
   ]
  },
  {
   "cell_type": "code",
   "execution_count": null,
   "metadata": {},
   "outputs": [],
   "source": [
    "df_performance_hist[\"proportion\"] = [10,10,20,20,30,30]*2\n",
    "\n",
    "df_performance_hist[\"colorspace\"] = [\"rgb\"]*6 + [\"hsv\"]*6\n",
    "df_performance_hist"
   ]
  },
  {
   "cell_type": "code",
   "execution_count": null,
   "metadata": {},
   "outputs": [],
   "source": [
    "# df_performance_hist[\"scores\"] = df_performance_hist[\"scores\"]*100\n",
    "df_performance_hist = df_performance_hist.round(3)\n",
    "df_performance_hist\n",
    "\n"
   ]
  },
  {
   "cell_type": "code",
   "execution_count": null,
   "metadata": {},
   "outputs": [],
   "source": [
    "dd = pd.DataFrame(columns=list(df_performance_hist.columns))\n",
    "\n",
    "dd[\"scores\"]=[df_dml[\"precision_at_1_level0\"].max(),df_dml[\"mean_average_precision_level0\"].max()]\n",
    "dd[\"metrics\"] = [\"Precision@1\",\"MAP@5\"]\n",
    "dd[\"exps\"]= ['emb']*2\n",
    "dd[\"proportion\"] = 0\n",
    "\n",
    "df_performance_hist = pd.concat([dd,df_performance_hist],ignore_index=True)\n"
   ]
  },
  {
   "cell_type": "code",
   "execution_count": null,
   "metadata": {},
   "outputs": [],
   "source": [
    "df_performance_hist = df_performance_hist.round(3)\n",
    "df_performance_hist"
   ]
  },
  {
   "cell_type": "code",
   "execution_count": null,
   "metadata": {},
   "outputs": [],
   "source": [
    "colors = [\"#4bfffb\", \"#4374B3\"]\n",
    "customPalette = sns.set_palette(sns.color_palette(colors))\n",
    "\n",
    "g = sns.catplot(data=df_performance_hist,kind=\"bar\",x=\"exps\",y=\"scores\",hue=\"metrics\",\n",
    "            errorbar=\"sd\", palette=customPalette, alpha=1, height=8,aspect=2)\n",
    "g.despine(left=False)\n",
    "g.set_axis_labels(\"Embedding + Colour Histogram Features\", \"Scores in %\")\n",
    "g.legend.set_title(\"DML\")\n",
    "g.figure.suptitle(\"Deep Metric Learning: Model Peformance on Color Histogram Improved Embedding\")\n",
    "g.legend.set_title(\"Metrics\")\n",
    "ax = g.ax\n",
    "\n",
    "for i in ax.containers: \n",
    "    # set color for tallest bar for each metrics  \n",
    "    patch_h = [patch.get_height() for patch in i.patches] \n",
    "    idx_tallest = np.argmax(patch_h) \n",
    "    i.patches[idx_tallest].set_edgecolor('#FF0000')\n",
    "\n",
    "    # set tallest bar label for each metrics\n",
    "    bar_labels = [\"\"]*len(patch_h)\n",
    "    bar_labels[idx_tallest] = np.round(patch_h[idx_tallest],4)\n",
    "    ax.bar_label(i,labels=bar_labels)\n",
    "plt.grid()\n",
    "sns.set(style=\"white\")\n",
    "\n"
   ]
  },
  {
   "cell_type": "code",
   "execution_count": null,
   "metadata": {},
   "outputs": [],
   "source": [
    "df_performance_hist = df_performance_hist[2:].reset_index(drop=True)"
   ]
  },
  {
   "cell_type": "code",
   "execution_count": null,
   "metadata": {},
   "outputs": [],
   "source": [
    "df_performance_hist[\"metrics2\"] = \"histogram_\"+df_performance_hist[\"metrics\"]\n",
    "df_performance_hist"
   ]
  },
  {
   "cell_type": "code",
   "execution_count": null,
   "metadata": {},
   "outputs": [],
   "source": [
    "df_temp = df_performance_palette.iloc[2:].reset_index(drop=True)\n",
    "df_temp[\"metrics2\"] = \"palette_\"+df_temp[\"metrics\"]\n",
    "df_temp"
   ]
  },
  {
   "cell_type": "code",
   "execution_count": null,
   "metadata": {},
   "outputs": [],
   "source": [
    "df_temp_comb = pd.concat([df_performance_hist,df_temp],ignore_index=True)\n"
   ]
  },
  {
   "cell_type": "code",
   "execution_count": null,
   "metadata": {},
   "outputs": [],
   "source": [
    "g =sns.catplot(kind=\"point\",data=df_temp_comb,x=\"proportion\",y=\"scores\",hue=\"metrics2\",\n",
    "                palette=\"bright\",col=\"colorspace\",sharex=False,height=4,aspect=0.9)\n",
    "\n",
    "g.set_axis_labels(\"Bin & Palette Sizes Proportion in %\", \"Scores\")\n",
    "g.legend.set_title(\"Metrics\")\n",
    "ax1 =g.facet_axis(0,0)\n",
    "ax2 =g.facet_axis(0,1)\n",
    "\n",
    "ax1.grid()\n",
    "ax2.grid()\n",
    "\n",
    "ax2.spines['left'].set_visible(False)\n",
    "\n",
    "# g.figure.suptitle(\"Deep Metric Learning: Model Peformance with Colour Features Embedding Proportion \",y=1.05)\n",
    "g.figure.suptitle(\"DML: Colour Feature Proportion Effect \",y=1.05)\n",
    "# g.set_xlabels()"
   ]
  },
  {
   "cell_type": "markdown",
   "metadata": {},
   "source": [
    "# Chart 3: Loss Decay Rate"
   ]
  },
  {
   "cell_type": "code",
   "execution_count": null,
   "metadata": {},
   "outputs": [],
   "source": [
    "lossLogFile = \"loss_histories.csv\"\n",
    "\n",
    "dml_loss_path = dml_artefacts_path.joinpath(\"baseDML\",lossLogFile)\n",
    "\n",
    "rgb_loss_5_path = dml_artefacts_path.joinpath(\"rgb_feats\",lossLogFile)\n",
    "rgb_loss_10_path = dml_artefacts_path.joinpath(\"rgb_feats_10\",lossLogFile)\n",
    "rgb_loss_15_path = dml_artefacts_path.joinpath(\"rgb_feats_15\",lossLogFile)\n",
    "\n",
    "hsv_loss__5_path = dml_artefacts_path.joinpath(\"hsv_feats\",lossLogFile)\n",
    "hsv_loss__10_path = dml_artefacts_path.joinpath(\"hsv_feats_10\",lossLogFile)\n",
    "hsv_loss__15_path = dml_artefacts_path.joinpath(\"hsv_feats_15\",lossLogFile)\n",
    "\n",
    "hist_feats_rgb_4_loss_path = dml_artefacts_path.joinpath(\"hist_feats_rgb_4\",lossLogFile)\n",
    "hist_feats_rgb_8_loss_path = dml_artefacts_path.joinpath(\"hist_feats_rgb_8\",lossLogFile)\n",
    "hist_feats_rgb_16_loss_path = dml_artefacts_path.joinpath(\"hist_feats_rgb_16\",lossLogFile)\n",
    "\n",
    "hist_feats_hsv_4_loss_path = dml_artefacts_path.joinpath(\"hist_feats_hsv_4\",lossLogFile)\n",
    "hist_feats_hsv_8_loss_path = dml_artefacts_path.joinpath(\"hist_feats_hsv_8\",lossLogFile)\n",
    "hist_feats_hsv_16_loss_path = dml_artefacts_path.joinpath(\"hist_feats_hsv_16\",lossLogFile)"
   ]
  },
  {
   "cell_type": "code",
   "execution_count": null,
   "metadata": {},
   "outputs": [],
   "source": [
    "df_dml = pd.read_csv(dml_loss_path)\n",
    "\n",
    "df_rgb_5 = pd.read_csv(rgb_loss_5_path)\n",
    "df_rgb_10 = pd.read_csv(rgb_loss_10_path)\n",
    "df_rgb_15 = pd.read_csv(rgb_loss_15_path)\n",
    "\n",
    "df_hsv_5 = pd.read_csv(hsv_loss__5_path)\n",
    "df_hsv_10 = pd.read_csv(hsv_loss__10_path)\n",
    "df_hsv_15 = pd.read_csv(hsv_loss__15_path)\n",
    "\n",
    "df_hist_rgb_4 = pd.read_csv(hist_feats_rgb_4_loss_path)\n",
    "df_hist_rgb_8 = pd.read_csv(hist_feats_rgb_8_loss_path)\n",
    "df_hist_rgb_16 = pd.read_csv(hist_feats_rgb_16_loss_path)\n",
    "\n",
    "df_hist_hsv_4 = pd.read_csv(hist_feats_hsv_4_loss_path)\n",
    "df_hist_hsv_8 = pd.read_csv(hist_feats_hsv_8_loss_path)\n",
    "df_hist_hsv_16 = pd.read_csv(hist_feats_hsv_16_loss_path)"
   ]
  },
  {
   "cell_type": "code",
   "execution_count": null,
   "metadata": {},
   "outputs": [],
   "source": [
    "df_dml[\"exp\"] = \"emb\"\n",
    "\n",
    "df_rgb_5[\"exp\"] = \"emb\" + \"+rgb5\"\n",
    "df_rgb_10[\"exp\"] = \"emb\" + \"+rgb10\"\n",
    "df_rgb_15[\"exp\"] = \"emb\" + \"+rgb15\"\n",
    "\n",
    "df_hsv_5[\"exp\"] = \"emb\" + \"+hsv5\"\n",
    "df_hsv_10[\"exp\"] = \"emb\" + \"+hsv10\"\n",
    "df_hsv_15[\"exp\"] = \"emb\" + \"+hsv15\"\n",
    "\n",
    "df_hist_rgb_4[\"exp\"] = \"emb\" + \"+hist4_rgb\"\n",
    "df_hist_rgb_8[\"exp\"] = \"emb\" + \"+hist8_rgb\"\n",
    "df_hist_rgb_16[\"exp\"] = \"emb\" + \"+hist16_rgb\"\n",
    "\n",
    "df_hist_hsv_4[\"exp\"] = \"emb\" + \"+hist4_hsv\"\n",
    "df_hist_hsv_8[\"exp\"] = \"emb\" + \"+hist8_hsv\"\n",
    "df_hist_hsv_16[\"exp\"] = \"emb\" + \"+hist16_hsv\""
   ]
  },
  {
   "cell_type": "code",
   "execution_count": null,
   "metadata": {},
   "outputs": [],
   "source": [
    "df_list = [df_dml,df_rgb_5,df_rgb_10,df_rgb_15, df_hsv_5, df_hsv_10,df_hsv_15,df_hist_rgb_4,df_hist_rgb_8,df_hist_rgb_16,df_hist_hsv_4,df_hist_hsv_8,df_hist_hsv_16]\n",
    "df_list_rgb = [df_rgb_5,df_rgb_10,df_rgb_15]\n",
    "df_list_hsv = [df_hsv_5, df_hsv_10,df_hsv_15]\n",
    "df_list_hist_rgb = [df_hist_rgb_4,df_hist_rgb_8,df_hist_rgb_16]\n",
    "df_list_hist_hsv = [df_hist_hsv_4,df_hist_hsv_8,df_hist_hsv_16]"
   ]
  },
  {
   "cell_type": "code",
   "execution_count": null,
   "metadata": {},
   "outputs": [],
   "source": [
    "df_dml.head()"
   ]
  },
  {
   "cell_type": "code",
   "execution_count": null,
   "metadata": {},
   "outputs": [],
   "source": [
    "df_dml.shape"
   ]
  },
  {
   "cell_type": "code",
   "execution_count": null,
   "metadata": {},
   "outputs": [],
   "source": [
    "for idx,df in enumerate(df_list):\n",
    "    epoch = []\n",
    "    max_iter = df.shape[0]\n",
    "    counter = 0\n",
    "    for i in range(max_iter):\n",
    "        if(((i)%6)==0):\n",
    "            counter+=1\n",
    "            epoch.append(counter)\n",
    "        else:\n",
    "            epoch.append(counter)\n",
    "    # print(epoch)\n",
    "    # print(len(epoch))\n",
    "    df_list[idx][\"epoch\"] = epoch\n"
   ]
  },
  {
   "cell_type": "code",
   "execution_count": null,
   "metadata": {},
   "outputs": [],
   "source": [
    "df_list[0].head(6)"
   ]
  },
  {
   "cell_type": "code",
   "execution_count": null,
   "metadata": {},
   "outputs": [],
   "source": [
    "max_epoch = []\n",
    "for df in df_list:\n",
    "    max_epoch.append(df.epoch.max())\n",
    "print(np.array(max_epoch).min())"
   ]
  },
  {
   "cell_type": "code",
   "execution_count": null,
   "metadata": {},
   "outputs": [],
   "source": [
    "list(df_list[1].groupby(by=\"epoch\")[\"total_loss\"].mean()[:10].index)"
   ]
  },
  {
   "cell_type": "code",
   "execution_count": null,
   "metadata": {},
   "outputs": [],
   "source": [
    "df_list[1].groupby(by=\"epoch\")[\"total_loss\"].mean()[:10]\n",
    "loss = list(df_list[1].groupby(by=\"epoch\")[\"total_loss\"].mean()[:10])\n",
    "epoch = list(df_list[1].groupby(by=\"epoch\")[\"total_loss\"].mean()[:10].index)\n",
    "pd.DataFrame({'train_loss': loss, 'epcoh': epoch})"
   ]
  },
  {
   "cell_type": "code",
   "execution_count": null,
   "metadata": {},
   "outputs": [],
   "source": [
    "exps = [\"\",\"+rgb_5\",\"+rgb_10\",\"+rgb_15\", \"+hsv_5\", \"+hsv_10\",\"+hsv_15\",\"+hist_rgb_4\",\"+hist_rgb_8\",\"+hist_rgb_16\",\"+hist_hsv_4\",\"+hist_hsv_8\",\"+hist_hsv_16\"]\n",
    "exps_legends = [\"emb\"+exp for exp in exps]\n",
    "df_decay = pd.DataFrame(columns=[\"train_loss\",\"epoch\"])\n",
    "for i,df in enumerate(df_list):\n",
    "    loss = list(df.groupby(by=\"epoch\")[\"total_loss\"].mean()[:10])\n",
    "    epoch = list(df.groupby(by=\"epoch\")[\"total_loss\"].mean()[:10].index)\n",
    "    df_temp = pd.DataFrame({'train_loss': loss, 'epoch': epoch})\n",
    "    df_temp[\"features\"] = exps_legends[i]\n",
    "    df_decay = pd.concat([df_decay,df_temp],ignore_index=True)\n"
   ]
  },
  {
   "cell_type": "code",
   "execution_count": null,
   "metadata": {},
   "outputs": [],
   "source": [
    "df_decay"
   ]
  },
  {
   "cell_type": "code",
   "execution_count": null,
   "metadata": {},
   "outputs": [],
   "source": [
    "plt.rcParams[\"lines.linewidth\"] = 0.7\n",
    "plt.figure(figsize=(4,4))\n",
    "ax = sns.pointplot(df_decay,x='epoch',y=\"train_loss\",hue=\"features\",palette=\"tab20\")\n",
    "# print(ax.set)\n",
    "# ax.figure.set_linewidth(0.1)\n",
    "ax.set_xlabel(\"Epoch\")\n",
    "ax.set_ylabel(\"Loss\")\n",
    "ax.set_title(\"DML: Training Loss Decay\")\n",
    "sns.move_legend(ax, \"upper left\", bbox_to_anchor=(1, 1))\n",
    "plt.grid() "
   ]
  },
  {
   "cell_type": "code",
   "execution_count": null,
   "metadata": {},
   "outputs": [],
   "source": []
  },
  {
   "cell_type": "code",
   "execution_count": null,
   "metadata": {},
   "outputs": [],
   "source": [
    "# ax = sns.pointplot(df_convergence,x='epoc',y=\"acc_top_5\",hue=\"exp\")\n",
    "# ax.set_xlabel(\"Epoch\")\n",
    "# ax.set_ylabel(\"MAP@5 in %\")\n",
    "# ax.set_title(\"Classification: Validation Convergence Rate\")\n",
    "# sns.move_legend(ax, \"upper left\", bbox_to_anchor=(1, 1))\n",
    "# # sns.set_theme(style=\"ticks\", rc={\"lines.linewidth\": 0.7})\n",
    "# plt.grid() "
   ]
  }
 ],
 "metadata": {
  "kernelspec": {
   "display_name": "pt",
   "language": "python",
   "name": "python3"
  },
  "language_info": {
   "codemirror_mode": {
    "name": "ipython",
    "version": 3
   },
   "file_extension": ".py",
   "mimetype": "text/x-python",
   "name": "python",
   "nbconvert_exporter": "python",
   "pygments_lexer": "ipython3",
   "version": "3.9.18"
  }
 },
 "nbformat": 4,
 "nbformat_minor": 2
}
