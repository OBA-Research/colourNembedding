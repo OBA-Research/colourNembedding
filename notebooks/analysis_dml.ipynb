{
 "cells": [
  {
   "cell_type": "code",
   "execution_count": 1,
   "metadata": {},
   "outputs": [],
   "source": [
    "import pandas as pd\n",
    "import numpy as np\n",
    "\n",
    "from pathlib import Path\n",
    "import seaborn as sns\n",
    "import matplotlib.pyplot as plt"
   ]
  },
  {
   "cell_type": "code",
   "execution_count": 2,
   "metadata": {},
   "outputs": [
    {
     "name": "stdout",
     "output_type": "stream",
     "text": [
      "/Users/yhemmy/localDocs/office/Dev/colourNembedding\n"
     ]
    }
   ],
   "source": [
    "base_path = Path().resolve().parent\n",
    "print(base_path)"
   ]
  },
  {
   "cell_type": "code",
   "execution_count": 4,
   "metadata": {},
   "outputs": [],
   "source": [
    "base_path = Path().resolve().parent\n",
    "dml_artefacts_path = base_path.joinpath(\"artefacts\",\"dml\",\"logs\")\n",
    "\n",
    "accuracyLogFile = \"accuracies_normalized_HotelTester_level_0_VAL_vs_TRAIN.csv\"\n",
    "\n",
    "dml_metrics_path = dml_artefacts_path.joinpath(\"baseDML\",accuracyLogFile)\n",
    "\n",
    "rgb_metrics_5_path = dml_artefacts_path.joinpath(\"rgb_feats\",accuracyLogFile)\n",
    "rgb_metrics_10_path = dml_artefacts_path.joinpath(\"rgb_feats_10\",accuracyLogFile)\n",
    "rgb_metrics_15_path = dml_artefacts_path.joinpath(\"rgb_feats_15\",accuracyLogFile)\n",
    "\n",
    "hsv_metrics__5_path = dml_artefacts_path.joinpath(\"hsv_feats\",accuracyLogFile)\n",
    "hsv_metrics__10_path = dml_artefacts_path.joinpath(\"hsv_feats_10\",accuracyLogFile)\n",
    "hsv_metrics__15_path = dml_artefacts_path.joinpath(\"hsv_feats_15\",accuracyLogFile)\n",
    "\n",
    "hist_feats_rgb_4_metrics_path = dml_artefacts_path.joinpath(\"hist_feats_rgb_4\",accuracyLogFile)\n",
    "hist_feats_rgb_8_metrics_path = dml_artefacts_path.joinpath(\"hist_feats_rgb_8\",accuracyLogFile)\n",
    "hist_feats_rgb_16_metrics_path = dml_artefacts_path.joinpath(\"hist_feats_rgb_16\",accuracyLogFile)\n",
    "\n",
    "hist_feats_hsv_4_metrics_path = dml_artefacts_path.joinpath(\"hist_feats_hsv_4\",accuracyLogFile)\n",
    "hist_feats_hsv_8_metrics_path = dml_artefacts_path.joinpath(\"hist_feats_hsv_8\",accuracyLogFile)\n",
    "hist_feats_hsv_16_metrics_path = dml_artefacts_path.joinpath(\"hist_feats_hsv_16\",accuracyLogFile)\n"
   ]
  },
  {
   "cell_type": "code",
   "execution_count": null,
   "metadata": {},
   "outputs": [],
   "source": []
  },
  {
   "cell_type": "code",
   "execution_count": 6,
   "metadata": {},
   "outputs": [],
   "source": [
    "\n",
    "\n",
    "df_dml = pd.read_csv(dml_metrics_path)\n",
    "\n",
    "df_rgb_5 = pd.read_csv(rgb_metrics_5_path)\n",
    "df_rgb_10 = pd.read_csv(rgb_metrics_10_path)\n",
    "# df_rgb_15 = pd.read_csv(rgb_metrics_15_path)\n",
    "\n",
    "# df_hsv_5 = pd.read_csv(hsv_metrics__5_path)\n",
    "# df_hsv_10 = pd.read_csv(hsv_metrics__10_path)\n",
    "# df_hsv_15 = pd.read_csv(hsv_metrics__15_path)\n",
    "\n",
    "# df_hist_rgb_4 = pd.read_csv(hist_feats_rgb_4_metrics_path)\n",
    "# df_hist_rgb_8 = pd.read_csv(hist_feats_rgb_8_metrics_path)\n",
    "# df_hist_rgb_16 = pd.read_csv(hist_feats_rgb_16_metrics_path)\n",
    "\n",
    "# df_hist_hsv_4 = pd.read_csv(hist_feats_hsv_4_metrics_path)\n",
    "# df_hist_hsv_8 = pd.read_csv(hist_feats_hsv_8_metrics_path)\n",
    "# df_hist_hsv_16 = pd.read_csv(hist_feats_hsv_16_metrics_path)"
   ]
  },
  {
   "cell_type": "code",
   "execution_count": null,
   "metadata": {},
   "outputs": [],
   "source": [
    "df_classification[\"exp\"] = \"emb\"\n",
    "\n",
    "df_rgb_5[\"exp\"] = \"emb\" + \"+rgb5\"\n",
    "df_rgb_10[\"exp\"] = \"emb\" + \"+rgb10\"\n",
    "df_rgb_15[\"exp\"] = \"emb\" + \"+rgb15\"\n",
    "\n",
    "df_hsv_5[\"exp\"] = \"emb\" + \"+hsv5\"\n",
    "df_hsv_10[\"exp\"] = \"emb\" + \"+hsv10\"\n",
    "df_hsv_15[\"exp\"] = \"emb\" + \"+hsv15\"\n",
    "\n",
    "df_hist_rgb_4[\"exp\"] = \"emb\" + \"+hist4_rgb\"\n",
    "df_hist_rgb_8[\"exp\"] = \"emb\" + \"+hist8_rgb\"\n",
    "df_hist_rgb_16[\"exp\"] = \"emb\" + \"+hist16_rgb\"\n",
    "\n",
    "df_hist_hsv_4[\"exp\"] = \"emb\" + \"+hist4_hsv\"\n",
    "df_hist_hsv_8[\"exp\"] = \"emb\" + \"+hist8_hsv\"\n",
    "df_hist_hsv_16[\"exp\"] = \"emb\" + \"+hist16_hsv\"\n"
   ]
  },
  {
   "cell_type": "code",
   "execution_count": null,
   "metadata": {},
   "outputs": [],
   "source": [
    "df_list = [df_classification,df_rgb_5,df_rgb_10,df_rgb_15, df_hsv_5, df_hsv_10,df_hsv_15,df_hist_rgb_4,df_hist_rgb_8,df_hist_rgb_16,df_hist_hsv_4,df_hist_hsv_8,df_hist_hsv_16]\n",
    "df_list_rgb = [df_rgb_5,df_rgb_10,df_rgb_15]\n",
    "df_list_hsv = [df_hsv_5, df_hsv_10,df_hsv_15]\n",
    "df_list_hist_rgb = [df_hist_rgb_4,df_hist_rgb_8,df_hist_rgb_16]\n",
    "df_list_hist_hsv = [df_hist_hsv_4,df_hist_hsv_8,df_hist_hsv_16]"
   ]
  },
  {
   "cell_type": "code",
   "execution_count": null,
   "metadata": {},
   "outputs": [],
   "source": [
    "df_classification.head()"
   ]
  },
  {
   "cell_type": "markdown",
   "metadata": {},
   "source": [
    "# Chart 1 to be 2"
   ]
  },
  {
   "cell_type": "code",
   "execution_count": null,
   "metadata": {},
   "outputs": [],
   "source": [
    "data = []\n",
    "for df in df_list_rgb+df_list_hsv:\n",
    "    data.append(df.train_score.max())\n",
    "    data.append(df.acc_top_1.max())\n",
    "    data.append(df.acc_top_5.max())\n",
    "\n",
    "df_performance_palette = pd.DataFrame(columns=[\"scores\"],data=data)\n",
    "df_performance_palette\n"
   ]
  },
  {
   "cell_type": "code",
   "execution_count": null,
   "metadata": {},
   "outputs": [],
   "source": [
    "groups =[\"rgb5\",\"rgb10\",\"rgb15\",\"hsv5\",\"hsv10\",\"hsv15\"]\n",
    "cats = [\"train_acc\",\"val_acc\",\"MAP@5\"]*len(groups)\n",
    "df_performance_palette[\"metrics\"] = cats\n",
    "\n",
    "\n",
    "exp = []\n",
    "for x in groups:\n",
    "    exp.extend([x]*3)\n",
    "df_performance_palette[\"exps\"] = exp"
   ]
  },
  {
   "cell_type": "code",
   "execution_count": null,
   "metadata": {},
   "outputs": [],
   "source": [
    "df_performance_palette"
   ]
  },
  {
   "cell_type": "code",
   "execution_count": null,
   "metadata": {},
   "outputs": [],
   "source": [
    "\n",
    "df_performance_palette[\"proportion\"] = [10,10,10,20,20,20,30,30,30]*2\n",
    "\n",
    "df_performance_palette[\"colorspace\"] = [\"rgb\"]*9 + [\"hsv\"]*9\n",
    "df_performance_palette"
   ]
  },
  {
   "cell_type": "code",
   "execution_count": null,
   "metadata": {},
   "outputs": [],
   "source": [
    "df_performance_palette[\"scores\"] = df_performance_palette[\"scores\"]*100\n",
    "df_performance_palette"
   ]
  },
  {
   "cell_type": "code",
   "execution_count": null,
   "metadata": {},
   "outputs": [],
   "source": [
    "# g =sns.catplot(kind=\"point\",data=df_performance_palette,x=\"proportion\",y=\"scores\",hue=\"metrics\",\n",
    "#                 palette='crest',col=\"colorspace\",sharex=False,sharey=True)\n",
    "# g.set_xlabels(\"Palette size embedding proportion in %\")\n",
    "# sns.set(style=\"darkgrid\")"
   ]
  },
  {
   "cell_type": "code",
   "execution_count": null,
   "metadata": {},
   "outputs": [],
   "source": [
    "dd = pd.DataFrame(columns=list(df_performance_palette.columns))\n",
    "\n",
    "dd[\"scores\"]=[df_classification.train_score.max()*100,df_classification.acc_top_1.max()*100,df_classification.acc_top_5.max()*100]\n",
    "dd[\"metrics\"] = [\"train_acc\",\"val_acc\",\"MAP@5\"]\n",
    "dd[\"exps\"]= ['emb']*3\n",
    "dd[\"proportion\"] = 0\n",
    "\n",
    "df_performance_palette = pd.concat([dd,df_performance_palette],ignore_index=True)\n"
   ]
  },
  {
   "cell_type": "markdown",
   "metadata": {},
   "source": [
    "# Chart 2 to be 1"
   ]
  },
  {
   "cell_type": "code",
   "execution_count": null,
   "metadata": {},
   "outputs": [],
   "source": [
    "# ax =sns.barplot(data=df_performance_palette,x=\"exps\",y=\"scores\",hue=\"metrics\",palette='crest')\n",
    "# ax.set_xlabel(\"features\")\n",
    "\n",
    "# for i in ax.containers: \n",
    "#     # set color for tallest bar for each metrics  \n",
    "#     patch_h = [patch.get_height() for patch in i.patches] \n",
    "#     idx_tallest = np.argmax(patch_h) \n",
    "#     i.patches[idx_tallest].set_edgecolor('#a834a8')\n",
    "\n",
    "#     # set tallest bar label for each metrics\n",
    "#     bar_labels = [\"\"]*len(patch_h)\n",
    "#     bar_labels[idx_tallest] = np.round(patch_h[idx_tallest],4)\n",
    "#     ax.bar_label(i,labels=bar_labels)"
   ]
  },
  {
   "cell_type": "code",
   "execution_count": null,
   "metadata": {},
   "outputs": [],
   "source": [
    "g = sns.catplot(data=df_performance_palette,kind=\"bar\",x=\"exps\",y=\"scores\",hue=\"metrics\",\n",
    "            errorbar=\"sd\", palette=\"crest\", alpha=1, height=8,aspect=2)\n",
    "g.despine(left=False)\n",
    "g.set_axis_labels(\"Embedding + Colour Palette Features\", \"Scores in %\")\n",
    "g.figure.suptitle(\"Classification: Model Peformance on Color Palette Improved Embedding\")\n",
    "g.legend.set_title(\"Metrics\")\n",
    "ax = g.ax\n",
    "\n",
    "for i in ax.containers: \n",
    "    # set color for tallest bar for each metrics  \n",
    "    patch_h = [patch.get_height() for patch in i.patches] \n",
    "    idx_tallest = np.argmax(patch_h) \n",
    "    i.patches[idx_tallest].set_edgecolor('#FF0000')\n",
    "\n",
    "    # set tallest bar label for each metrics\n",
    "    bar_labels = [\"\"]*len(patch_h)\n",
    "    bar_labels[idx_tallest] = np.round(patch_h[idx_tallest],4)\n",
    "    ax.bar_label(i,labels=bar_labels)\n",
    "plt.grid()\n",
    "sns.set(style=\"white\")\n",
    "\n"
   ]
  },
  {
   "cell_type": "markdown",
   "metadata": {},
   "source": [
    "# Histogram"
   ]
  },
  {
   "cell_type": "code",
   "execution_count": null,
   "metadata": {},
   "outputs": [],
   "source": [
    "data = []\n",
    "for df in df_list_hist_rgb+df_list_hist_hsv:\n",
    "    data.append(df.train_score.max())\n",
    "    data.append(df.acc_top_1.max())\n",
    "    data.append(df.acc_top_5.max())\n",
    "\n",
    "df_performance_hist = pd.DataFrame(columns=[\"scores\"],data=data)\n",
    "df_performance_hist\n"
   ]
  },
  {
   "cell_type": "code",
   "execution_count": null,
   "metadata": {},
   "outputs": [],
   "source": [
    "groups =[\"rgb4\",\"rgb8\",\"rgb16\",\"hsv4\",\"hsv8\",\"hsv16\"]\n",
    "cats = [\"train_acc\",\"val_acc\",\"MAP@5\"]*len(groups)\n",
    "df_performance_hist[\"metrics\"] = cats\n",
    "\n",
    "\n",
    "exp = []\n",
    "for x in groups:\n",
    "    exp.extend([x]*3)\n",
    "df_performance_hist[\"exps\"] = exp"
   ]
  },
  {
   "cell_type": "code",
   "execution_count": null,
   "metadata": {},
   "outputs": [],
   "source": [
    "df_performance_hist[\"proportion\"] = [10,10,10,20,20,20,30,30,30]*2\n",
    "\n",
    "df_performance_hist[\"colorspace\"] = [\"rgb\"]*9 + [\"hsv\"]*9\n",
    "df_performance_hist"
   ]
  },
  {
   "cell_type": "code",
   "execution_count": null,
   "metadata": {},
   "outputs": [],
   "source": [
    "df_performance_hist[\"scores\"] = df_performance_hist[\"scores\"]*100\n",
    "df_performance_hist\n"
   ]
  },
  {
   "cell_type": "code",
   "execution_count": null,
   "metadata": {},
   "outputs": [],
   "source": [
    "dd = pd.DataFrame(columns=list(df_performance_palette.columns))\n",
    "\n",
    "dd[\"scores\"]=[df_classification.train_score.max()*100,df_classification.acc_top_1.max()*100,df_classification.acc_top_5.max()*100]\n",
    "dd[\"metrics\"] = [\"train_acc\",\"val_acc\",\"MAP@5\"]\n",
    "dd[\"exps\"]= ['emb']*3\n",
    "dd[\"proportion\"] = 0\n",
    "\n",
    "df_performance_hist = pd.concat([dd,df_performance_hist],ignore_index=True)\n"
   ]
  },
  {
   "cell_type": "code",
   "execution_count": null,
   "metadata": {},
   "outputs": [],
   "source": [
    "g = sns.catplot(data=df_performance_hist,kind=\"bar\",x=\"exps\",y=\"scores\",hue=\"metrics\",\n",
    "            errorbar=\"sd\", palette=\"viridis\", alpha=1, height=8,aspect=2)\n",
    "g.despine(left=False)\n",
    "g.set_axis_labels(\"Embedding + Colour Histogram Features\", \"Scores in %\")\n",
    "g.legend.set_title(\"Classification\")\n",
    "g.figure.suptitle(\"Classification: Model Peformance on Color Histogram Improved Embedding\")\n",
    "g.legend.set_title(\"Metrics\")\n",
    "ax = g.ax\n",
    "\n",
    "for i in ax.containers: \n",
    "    # set color for tallest bar for each metrics  \n",
    "    patch_h = [patch.get_height() for patch in i.patches] \n",
    "    idx_tallest = np.argmax(patch_h) \n",
    "    i.patches[idx_tallest].set_edgecolor('#FF0000')\n",
    "\n",
    "    # set tallest bar label for each metrics\n",
    "    bar_labels = [\"\"]*len(patch_h)\n",
    "    bar_labels[idx_tallest] = np.round(patch_h[idx_tallest],4)\n",
    "    ax.bar_label(i,labels=bar_labels)\n",
    "plt.grid()\n",
    "sns.set(style=\"white\")\n",
    "\n"
   ]
  },
  {
   "cell_type": "code",
   "execution_count": null,
   "metadata": {},
   "outputs": [],
   "source": [
    "df_performance_hist = df_performance_hist[3:].reset_index(drop=True)"
   ]
  },
  {
   "cell_type": "code",
   "execution_count": null,
   "metadata": {},
   "outputs": [],
   "source": [
    "df_performance_hist[\"metrics2\"] = \"histogram_\"+df_performance_hist[\"metrics\"]\n",
    "df_performance_hist"
   ]
  },
  {
   "cell_type": "code",
   "execution_count": null,
   "metadata": {},
   "outputs": [],
   "source": [
    "df_temp = df_performance_palette.iloc[3:].reset_index(drop=True)\n",
    "df_temp[\"metrics2\"] = \"palette_\"+df_temp[\"metrics\"]\n",
    "df_temp"
   ]
  },
  {
   "cell_type": "code",
   "execution_count": null,
   "metadata": {},
   "outputs": [],
   "source": [
    "df_temp_comb = pd.concat([df_performance_hist,df_temp],ignore_index=True)"
   ]
  },
  {
   "cell_type": "code",
   "execution_count": null,
   "metadata": {},
   "outputs": [],
   "source": [
    "g =sns.catplot(kind=\"point\",data=df_temp_comb,x=\"proportion\",y=\"scores\",hue=\"metrics2\",\n",
    "                palette='dark',col=\"colorspace\",sharex=False,height=8,aspect=0.9)\n",
    "g.set_axis_labels(\"Bin & Palette Sizes Embedding Proportion in %\", \"Scores in %\")\n",
    "g.legend.set_title(\"Metrics\")\n",
    "ax1 =g.facet_axis(0,0)\n",
    "ax2 =g.facet_axis(0,1)\n",
    "\n",
    "ax1.grid()\n",
    "ax2.grid()\n",
    "\n",
    "ax2.spines['left'].set_visible(False)\n",
    "\n",
    "g.figure.suptitle(\"Classification: Model Peformance with Colour Features Embedding Proportion \",y=1.05)\n"
   ]
  },
  {
   "cell_type": "markdown",
   "metadata": {},
   "source": [
    "# Chart 3"
   ]
  },
  {
   "cell_type": "code",
   "execution_count": null,
   "metadata": {},
   "outputs": [],
   "source": [
    "df_convergence = pd.DataFrame(columns=list(df_rgb_5.columns))\n",
    "for df in df_list:\n",
    "    df_convergence = pd.concat([df_convergence,df.head(10)],ignore_index=True)\n"
   ]
  },
  {
   "cell_type": "code",
   "execution_count": null,
   "metadata": {},
   "outputs": [],
   "source": [
    "df_convergence[\"epoc\"]=[1,2,3,4,5,6,7,8,9,10]*13\n",
    "df_convergence.head()"
   ]
  },
  {
   "cell_type": "code",
   "execution_count": null,
   "metadata": {},
   "outputs": [],
   "source": [
    "df_convergence.train_score = df_convergence.train_score  *100\n",
    "df_convergence.acc_top_5 = df_convergence.acc_top_5  *100\n"
   ]
  },
  {
   "cell_type": "code",
   "execution_count": null,
   "metadata": {},
   "outputs": [],
   "source": [
    "plt.rcParams[\"lines.linewidth\"] = 0.7\n",
    "ax = sns.pointplot(df_convergence,x='epoc',y=\"train_score\",hue=\"exp\")\n",
    "\n",
    "# print(ax.set)\n",
    "# ax.figure.set_linewidth(0.1)\n",
    "ax.set_xlabel(\"Epoch\")\n",
    "ax.set_ylabel(\"Accuracy in %\")\n",
    "ax.set_title(\"Classification: Train Convergence Rate\")\n",
    "sns.move_legend(ax, \"upper left\", bbox_to_anchor=(1, 1))\n",
    "plt.grid() "
   ]
  },
  {
   "cell_type": "code",
   "execution_count": null,
   "metadata": {},
   "outputs": [],
   "source": [
    "ax = sns.pointplot(df_convergence,x='epoc',y=\"acc_top_5\",hue=\"exp\")\n",
    "ax.set_xlabel(\"Epoch\")\n",
    "ax.set_ylabel(\"MAP@5 in %\")\n",
    "ax.set_title(\"Classification: Validation Convergence Rate\")\n",
    "sns.move_legend(ax, \"upper left\", bbox_to_anchor=(1, 1))\n",
    "# sns.set_theme(style=\"ticks\", rc={\"lines.linewidth\": 0.7})\n",
    "plt.grid() "
   ]
  }
 ],
 "metadata": {
  "kernelspec": {
   "display_name": "pt",
   "language": "python",
   "name": "python3"
  },
  "language_info": {
   "codemirror_mode": {
    "name": "ipython",
    "version": 3
   },
   "file_extension": ".py",
   "mimetype": "text/x-python",
   "name": "python",
   "nbconvert_exporter": "python",
   "pygments_lexer": "ipython3",
   "version": "3.9.6"
  }
 },
 "nbformat": 4,
 "nbformat_minor": 2
}
