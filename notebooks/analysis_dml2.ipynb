{
 "cells": [
  {
   "cell_type": "code",
   "execution_count": null,
   "metadata": {},
   "outputs": [],
   "source": [
    "import pandas as pd\n",
    "import numpy as np\n",
    "\n",
    "from pathlib import Path\n",
    "import seaborn as sns\n",
    "import matplotlib.pyplot as plt"
   ]
  },
  {
   "cell_type": "code",
   "execution_count": null,
   "metadata": {},
   "outputs": [],
   "source": [
    "base_path = Path().resolve().parent\n",
    "print(base_path)"
   ]
  },
  {
   "cell_type": "code",
   "execution_count": null,
   "metadata": {},
   "outputs": [],
   "source": [
    "base_path = Path().resolve().parent\n",
    "dml_artefacts_path = base_path.joinpath(\"artefacts\",\"dml\",\"logs\")\n",
    "\n",
    "accuracyLogFile = \"accuracies_normalized_HotelTester_level_0_VAL_vs_TRAIN.csv\"\n",
    "\n",
    "dml_metrics_path = dml_artefacts_path.joinpath(\"baseDml\",accuracyLogFile)\n",
    "\n",
    "rgb_metrics_5_path = dml_artefacts_path.joinpath(\"rgb_feats\",accuracyLogFile)\n",
    "rgb_metrics_11_path = dml_artefacts_path.joinpath(\"rgb_feats_11\",accuracyLogFile)\n",
    "rgb_metrics_18_path = dml_artefacts_path.joinpath(\"rgb_feats_18\",accuracyLogFile)\n",
    "rgb_metrics_28_path = dml_artefacts_path.joinpath(\"rgb_feats_28\",accuracyLogFile)\n",
    "rgb_metrics_43_path = dml_artefacts_path.joinpath(\"rgb_feats_43\",accuracyLogFile)\n",
    "rgb_metrics_64_path = dml_artefacts_path.joinpath(\"rgb_feats_64\",accuracyLogFile)\n",
    "rgb_metrics_100_path = dml_artefacts_path.joinpath(\"rgb_feats_100\",accuracyLogFile)\n",
    "\n",
    "hsv_metrics__5_path = dml_artefacts_path.joinpath(\"hsv_feats\",accuracyLogFile)\n",
    "hsv_metrics__11_path = dml_artefacts_path.joinpath(\"hsv_feats_11\",accuracyLogFile)\n",
    "hsv_metrics__18_path = dml_artefacts_path.joinpath(\"hsv_feats_18\",accuracyLogFile)\n",
    "hsv_metrics__28_path = dml_artefacts_path.joinpath(\"hsv_feats_28\",accuracyLogFile)\n",
    "hsv_metrics__43_path = dml_artefacts_path.joinpath(\"hsv_feats_43\",accuracyLogFile)\n",
    "hsv_metrics__64_path = dml_artefacts_path.joinpath(\"hsv_feats_64\",accuracyLogFile)\n",
    "hsv_metrics__100_path = dml_artefacts_path.joinpath(\"hsv_feats_100\",accuracyLogFile)\n",
    "\n",
    "hist_feats_rgb_5_metrics_path = dml_artefacts_path.joinpath(\"hist_feats_rgb_5\",accuracyLogFile)\n",
    "hist_feats_rgb_11_metrics_path = dml_artefacts_path.joinpath(\"hist_feats_rgb_11\",accuracyLogFile)\n",
    "hist_feats_rgb_18_metrics_path = dml_artefacts_path.joinpath(\"hist_feats_rgb_18\",accuracyLogFile)\n",
    "hist_feats_rgb_28_metrics_path = dml_artefacts_path.joinpath(\"hist_feats_rgb_28\",accuracyLogFile)\n",
    "hist_feats_rgb_43_metrics_path = dml_artefacts_path.joinpath(\"hist_feats_rgb_43\",accuracyLogFile)\n",
    "hist_feats_rgb_64_metrics_path = dml_artefacts_path.joinpath(\"hist_feats_rgb_64\",accuracyLogFile)\n",
    "hist_feats_rgb_100_metrics_path = dml_artefacts_path.joinpath(\"hist_feats_rgb_100\",accuracyLogFile)\n",
    "\n",
    "hist_feats_hsv_5_metrics_path = dml_artefacts_path.joinpath(\"hist_feats_hsv_5\",accuracyLogFile)\n",
    "hist_feats_hsv_11_metrics_path = dml_artefacts_path.joinpath(\"hist_feats_hsv_11\",accuracyLogFile)\n",
    "hist_feats_hsv_18_metrics_path = dml_artefacts_path.joinpath(\"hist_feats_hsv_18\",accuracyLogFile)\n",
    "hist_feats_hsv_28_metrics_path = dml_artefacts_path.joinpath(\"hist_feats_hsv_28\",accuracyLogFile)\n",
    "hist_feats_hsv_43_metrics_path = dml_artefacts_path.joinpath(\"hist_feats_hsv_43\",accuracyLogFile)\n",
    "hist_feats_hsv_64_metrics_path = dml_artefacts_path.joinpath(\"hist_feats_hsv_64\",accuracyLogFile)\n",
    "hist_feats_hsv_100_metrics_path = dml_artefacts_path.joinpath(\"hist_feats_hsv_100\",accuracyLogFile)\n"
   ]
  },
  {
   "cell_type": "code",
   "execution_count": null,
   "metadata": {},
   "outputs": [],
   "source": [
    "\n",
    "\n",
    "df_dml = pd.read_csv(dml_metrics_path)\n",
    "\n",
    "df_rgb_5 = pd.read_csv(rgb_metrics_5_path)\n",
    "df_rgb_11 = pd.read_csv(rgb_metrics_11_path)\n",
    "df_rgb_18 = pd.read_csv(rgb_metrics_18_path)\n",
    "df_rgb_28 = pd.read_csv(rgb_metrics_28_path)\n",
    "df_rgb_43 = pd.read_csv(rgb_metrics_43_path)\n",
    "df_rgb_64 = pd.read_csv(rgb_metrics_64_path)\n",
    "df_rgb_100 = pd.read_csv(rgb_metrics_100_path)\n",
    "\n",
    "df_hsv_5 = pd.read_csv(hsv_metrics__5_path)\n",
    "df_hsv_11 = pd.read_csv(hsv_metrics__11_path)\n",
    "df_hsv_18 = pd.read_csv(hsv_metrics__18_path)\n",
    "df_hsv_28 = pd.read_csv(hsv_metrics__28_path)\n",
    "df_hsv_43 = pd.read_csv(hsv_metrics__43_path)\n",
    "df_hsv_64 = pd.read_csv(hsv_metrics__64_path)\n",
    "df_hsv_100 = pd.read_csv(hsv_metrics__100_path)\n",
    "\n",
    "df_hist_rgb_5 = pd.read_csv(hist_feats_rgb_5_metrics_path)\n",
    "df_hist_rgb_11 = pd.read_csv(hist_feats_rgb_11_metrics_path)\n",
    "df_hist_rgb_18 = pd.read_csv(hist_feats_rgb_18_metrics_path)\n",
    "df_hist_rgb_28 = pd.read_csv(hist_feats_rgb_28_metrics_path)\n",
    "df_hist_rgb_43 = pd.read_csv(hist_feats_rgb_43_metrics_path)\n",
    "df_hist_rgb_64 = pd.read_csv(hist_feats_rgb_64_metrics_path)\n",
    "df_hist_rgb_100 = pd.read_csv(hist_feats_rgb_100_metrics_path)\n",
    "\n",
    "df_hist_hsv_5 = pd.read_csv(hist_feats_hsv_5_metrics_path)\n",
    "df_hist_hsv_11 = pd.read_csv(hist_feats_hsv_11_metrics_path)\n",
    "df_hist_hsv_18 = pd.read_csv(hist_feats_hsv_18_metrics_path)\n",
    "df_hist_hsv_28 = pd.read_csv(hist_feats_hsv_28_metrics_path)\n",
    "df_hist_hsv_43 = pd.read_csv(hist_feats_hsv_43_metrics_path)\n",
    "df_hist_hsv_64 = pd.read_csv(hist_feats_hsv_64_metrics_path)\n",
    "df_hist_hsv_100 = pd.read_csv(hist_feats_hsv_100_metrics_path)"
   ]
  },
  {
   "cell_type": "code",
   "execution_count": null,
   "metadata": {},
   "outputs": [],
   "source": [
    "df_dml[\"exp\"] = \"emb\"\n",
    "\n",
    "df_rgb_5[\"exp\"] = \"emb\" + \"+rgb5\"\n",
    "df_rgb_11[\"exp\"] = \"emb\" + \"+rgb11\"\n",
    "df_rgb_18[\"exp\"] = \"emb\" + \"+rgb18\"\n",
    "df_rgb_28[\"exp\"] = \"emb\" + \"+rgb28\"\n",
    "df_rgb_43[\"exp\"] = \"emb\" + \"+rgb43\"\n",
    "df_rgb_64[\"exp\"] = \"emb\" + \"+rgb64\"\n",
    "df_rgb_100[\"exp\"] = \"emb\" + \"+rgb100\"\n",
    "\n",
    "df_hsv_5[\"exp\"] = \"emb\" + \"+hsv5\"\n",
    "df_hsv_11[\"exp\"] = \"emb\" + \"+hsv11\"\n",
    "df_hsv_18[\"exp\"] = \"emb\" + \"+hsv18\"\n",
    "df_hsv_28[\"exp\"] = \"emb\" + \"+hsv28\"\n",
    "df_hsv_43[\"exp\"] = \"emb\" + \"+hsv43\"\n",
    "df_hsv_64[\"exp\"] = \"emb\" + \"+hsv64\"\n",
    "df_hsv_100[\"exp\"] = \"emb\" + \"+hsv100\"\n",
    "\n",
    "df_hist_rgb_5[\"exp\"] = \"emb\" + \"+hist5_rgb\"\n",
    "df_hist_rgb_11[\"exp\"] = \"emb\" + \"+hist11_rgb\"\n",
    "df_hist_rgb_18[\"exp\"] = \"emb\" + \"+hist18_rgb\"\n",
    "df_hist_rgb_28[\"exp\"] = \"emb\" + \"+hist28_rgb\"\n",
    "df_hist_rgb_43[\"exp\"] = \"emb\" + \"+hist43_rgb\"\n",
    "df_hist_rgb_64[\"exp\"] = \"emb\" + \"+hist64_rgb\"\n",
    "df_hist_rgb_100[\"exp\"] = \"emb\" + \"+hist100_rgb\"\n",
    "\n",
    "df_hist_hsv_5[\"exp\"] = \"emb\" + \"+hist5_hsv\"\n",
    "df_hist_hsv_11[\"exp\"] = \"emb\" + \"+hist11_hsv\"\n",
    "df_hist_hsv_18[\"exp\"] = \"emb\" + \"+hist18_hsv\"\n",
    "df_hist_hsv_28[\"exp\"] = \"emb\" + \"+hist28_hsv\"\n",
    "df_hist_hsv_43[\"exp\"] = \"emb\" + \"+hist43_hsv\"\n",
    "df_hist_hsv_64[\"exp\"] = \"emb\" + \"+hist64_hsv\"\n",
    "df_hist_hsv_100[\"exp\"] = \"emb\" + \"+hist100_hsv\"\n"
   ]
  },
  {
   "cell_type": "code",
   "execution_count": null,
   "metadata": {},
   "outputs": [],
   "source": [
    "df_list = [df_dml,df_rgb_5,df_rgb_11,df_rgb_18,df_rgb_28,df_rgb_43,df_rgb_64,df_rgb_100,\n",
    "            df_hsv_5, df_hsv_11,df_hsv_18,df_hsv_28,df_hsv_43,df_hsv_64,df_hsv_100,\n",
    "            df_hist_rgb_5,df_hist_rgb_11,df_hist_rgb_18,df_hist_rgb_28,df_hist_rgb_43,df_hist_rgb_64,df_hist_rgb_100,\n",
    "            df_hist_hsv_5,df_hist_hsv_11,df_hist_hsv_18,df_hist_hsv_28,df_hist_hsv_43,df_hist_hsv_64,df_hist_hsv_100]\n",
    "\n",
    "df_list_rgb = [df_rgb_5,df_rgb_11,df_rgb_18,df_rgb_28,df_rgb_43,df_rgb_64,df_rgb_100]\n",
    "df_list_hsv = [df_hsv_5, df_hsv_11,df_hsv_18,df_hsv_28,df_hsv_43,df_hsv_64,df_hsv_100]\n",
    "df_list_hist_rgb = [df_hist_rgb_5,df_hist_rgb_11,df_hist_rgb_18,df_hist_rgb_28,df_hist_rgb_43,df_hist_rgb_64,df_hist_rgb_100]\n",
    "df_list_hist_hsv = [df_hist_hsv_5,df_hist_hsv_11,df_hist_hsv_18,df_hist_hsv_28,df_hist_hsv_43,df_hist_hsv_64,df_hist_hsv_100]"
   ]
  },
  {
   "cell_type": "code",
   "execution_count": null,
   "metadata": {},
   "outputs": [],
   "source": [
    "df_dml.head()"
   ]
  },
  {
   "cell_type": "markdown",
   "metadata": {},
   "source": [
    "# Chart 1 to be 2"
   ]
  },
  {
   "cell_type": "code",
   "execution_count": null,
   "metadata": {},
   "outputs": [],
   "source": [
    "data = []\n",
    "for df in df_list_rgb+df_list_hsv:\n",
    "    data.append(df.precision_at_1_level0.max())\n",
    "    data.append(df.best_accuracy.max())\n",
    "\n",
    "df_performance_palette = pd.DataFrame(columns=[\"scores\"],data=data)\n",
    "df_performance_palette\n"
   ]
  },
  {
   "cell_type": "code",
   "execution_count": null,
   "metadata": {},
   "outputs": [],
   "source": [
    "groups =[\"rgb5\",\"rgb11\",\"rgb18\",\"rgb28\",\"rgb43\",\"rgb64\",\"rgb100\",\"hsv5\",\"hsv11\",\"hsv18\",\"hsv28\",\"hsv43\",\"hsv64\",\"hsv100\"]\n",
    "cats = [\"Precision@1\",\"MAP@5\"]*len(groups)\n",
    "df_performance_palette[\"metrics\"] = cats\n",
    "\n",
    "\n",
    "exp = []\n",
    "for x in groups:\n",
    "    exp.extend([x]*2)\n",
    "df_performance_palette[\"exps\"] = exp"
   ]
  },
  {
   "cell_type": "code",
   "execution_count": null,
   "metadata": {},
   "outputs": [],
   "source": [
    "df_performance_palette"
   ]
  },
  {
   "cell_type": "code",
   "execution_count": null,
   "metadata": {},
   "outputs": [],
   "source": [
    "\n",
    "df_performance_palette[\"proportion\"] = [10,10,20,20,30,30,40,40,50,50,60,60,70,70]*2\n",
    "\n",
    "df_performance_palette[\"colorspace\"] = [\"rgb\"]*14 + [\"hsv\"]*14\n",
    "df_performance_palette"
   ]
  },
  {
   "cell_type": "code",
   "execution_count": null,
   "metadata": {},
   "outputs": [],
   "source": [
    "# df_performance_palette[\"scores\"] = df_performance_palette[\"scores\"]*100\n",
    "df_performance_palette = df_performance_palette.round(3)\n",
    "df_performance_palette"
   ]
  },
  {
   "cell_type": "code",
   "execution_count": null,
   "metadata": {},
   "outputs": [],
   "source": [
    "# g =sns.catplot(kind=\"point\",data=df_performance_palette,x=\"proportion\",y=\"scores\",hue=\"metrics\",\n",
    "#                 palette='crest',col=\"colorspace\",sharex=False,sharey=True)\n",
    "# g.set_xlabels(\"Palette size embedding proportion in %\")\n",
    "# sns.set(style=\"darkgrid\")"
   ]
  },
  {
   "cell_type": "code",
   "execution_count": null,
   "metadata": {},
   "outputs": [],
   "source": [
    "dd = pd.DataFrame(columns=list(df_performance_palette.columns))\n",
    "\n",
    "dd[\"scores\"]=[df_dml[\"precision_at_1_level0\"].max(),df_dml[\"mean_average_precision_level0\"].max()]\n",
    "dd[\"metrics\"] = [\"Precision@1\",\"MAP@5\"]\n",
    "dd[\"exps\"]= ['emb']*2\n",
    "dd[\"proportion\"] = 0\n",
    "\n",
    "df_performance_palette = pd.concat([dd,df_performance_palette],ignore_index=True)\n",
    "df_performance_palette = df_performance_palette.round(3)\n"
   ]
  },
  {
   "cell_type": "code",
   "execution_count": null,
   "metadata": {},
   "outputs": [],
   "source": [
    "df_performance_palette"
   ]
  },
  {
   "cell_type": "markdown",
   "metadata": {},
   "source": [
    "# Chart 2 to be 1"
   ]
  },
  {
   "cell_type": "code",
   "execution_count": null,
   "metadata": {},
   "outputs": [],
   "source": [
    "df_performance_palette"
   ]
  },
  {
   "cell_type": "code",
   "execution_count": null,
   "metadata": {},
   "outputs": [],
   "source": [
    "g = sns.catplot(data=df_performance_palette,kind=\"bar\",x=\"exps\",y=\"scores\",hue=\"metrics\",\n",
    "            errorbar=\"sd\", palette=\"Blues\", alpha=1, height=8,aspect=2)\n",
    "g.despine(left=False)\n",
    "g.set_axis_labels(\"Embedding + Colour Palette Features\", \"Scores\")\n",
    "g.figure.suptitle(\"Deep Metric Learning: Model Peformance on Color Palette Improved Embedding\")\n",
    "g.legend.set_title(\"Metrics\")\n",
    "ax = g.ax\n",
    "\n",
    "for i in ax.containers: \n",
    "    # set color for tallest bar for each metrics  \n",
    "    patch_h = [patch.get_height() for patch in i.patches] \n",
    "    idx_tallest = np.argmax(patch_h) \n",
    "    i.patches[idx_tallest].set_edgecolor('#FF0000')\n",
    "\n",
    "    # set tallest bar label for each metrics\n",
    "    bar_labels = [\"\"]*len(patch_h)\n",
    "    bar_labels[idx_tallest] = np.round(patch_h[idx_tallest],4)\n",
    "    ax.bar_label(i,labels=bar_labels)\n",
    "plt.grid()\n",
    "sns.set(style=\"white\")\n",
    "\n"
   ]
  },
  {
   "cell_type": "markdown",
   "metadata": {},
   "source": [
    "# Histogram"
   ]
  },
  {
   "cell_type": "code",
   "execution_count": null,
   "metadata": {},
   "outputs": [],
   "source": [
    "data = []\n",
    "for df in df_list_hist_rgb+df_list_hist_hsv:\n",
    "    data.append(df.precision_at_1_level0.max()) \n",
    "    data.append(df.best_accuracy.max())\n",
    "\n",
    "df_performance_hist = pd.DataFrame(columns=[\"scores\"],data=data)\n",
    "df_performance_hist\n"
   ]
  },
  {
   "cell_type": "code",
   "execution_count": null,
   "metadata": {},
   "outputs": [],
   "source": [
    "groups =[\"rgb5\",\"rgb11\",\"rgb18\",\"rgb28\",\"rgb43\",\"rgb64\",\"rgb100\",\"hsv5\",\"hsv11\",\"hsv18\",\"hsv28\",\"hsv43\",\"hsv64\",\"hsv100\"]\n",
    "cats = [\"Precision@1\",\"MAP@5\"]*len(groups)\n",
    "df_performance_hist[\"metrics\"] = cats\n",
    "\n",
    "\n",
    "exp = []\n",
    "for x in groups:\n",
    "    exp.extend([x]*2)\n",
    "df_performance_hist[\"exps\"] = exp"
   ]
  },
  {
   "cell_type": "code",
   "execution_count": null,
   "metadata": {},
   "outputs": [],
   "source": [
    "df_performance_hist[\"proportion\"] = [10,10,20,20,30,30,40,40,50,50,60,60,70,70]*2\n",
    "\n",
    "df_performance_hist[\"colorspace\"] = [\"rgb\"]*14 + [\"hsv\"]*14\n",
    "df_performance_hist"
   ]
  },
  {
   "cell_type": "code",
   "execution_count": null,
   "metadata": {},
   "outputs": [],
   "source": [
    "# df_performance_hist[\"scores\"] = df_performance_hist[\"scores\"]*100\n",
    "df_performance_hist = df_performance_hist.round(3)\n",
    "df_performance_hist\n",
    "\n"
   ]
  },
  {
   "cell_type": "code",
   "execution_count": null,
   "metadata": {},
   "outputs": [],
   "source": [
    "dd = pd.DataFrame(columns=list(df_performance_hist.columns))\n",
    "\n",
    "dd[\"scores\"]=[df_dml[\"precision_at_1_level0\"].max(),df_dml[\"mean_average_precision_level0\"].max()]\n",
    "dd[\"metrics\"] = [\"Precision@1\",\"MAP@5\"]\n",
    "dd[\"exps\"]= ['emb']*2\n",
    "dd[\"proportion\"] = 0\n",
    "\n",
    "df_performance_hist = pd.concat([dd,df_performance_hist],ignore_index=True)\n"
   ]
  },
  {
   "cell_type": "code",
   "execution_count": null,
   "metadata": {},
   "outputs": [],
   "source": [
    "df_performance_hist = df_performance_hist.round(3)\n",
    "df_performance_hist"
   ]
  },
  {
   "cell_type": "code",
   "execution_count": null,
   "metadata": {},
   "outputs": [],
   "source": [
    "colors = [\"#4bfffb\", \"#4374B3\"]\n",
    "customPalette = sns.set_palette(sns.color_palette(colors))\n",
    "\n",
    "g = sns.catplot(data=df_performance_hist,kind=\"bar\",x=\"exps\",y=\"scores\",hue=\"metrics\",\n",
    "            errorbar=\"sd\", palette=customPalette, alpha=1, height=8,aspect=2)\n",
    "g.despine(left=False)\n",
    "g.set_axis_labels(\"Embedding + Colour Histogram Features\", \"Scores in %\")\n",
    "g.legend.set_title(\"DML\")\n",
    "g.figure.suptitle(\"Deep Metric Learning: Model Peformance on Color Histogram Improved Embedding\")\n",
    "g.legend.set_title(\"Metrics\")\n",
    "ax = g.ax\n",
    "\n",
    "for i in ax.containers: \n",
    "    # set color for tallest bar for each metrics  \n",
    "    patch_h = [patch.get_height() for patch in i.patches] \n",
    "    idx_tallest = np.argmax(patch_h) \n",
    "    i.patches[idx_tallest].set_edgecolor('#FF0000')\n",
    "\n",
    "    # set tallest bar label for each metrics\n",
    "    bar_labels = [\"\"]*len(patch_h)\n",
    "    bar_labels[idx_tallest] = np.round(patch_h[idx_tallest],4)\n",
    "    ax.bar_label(i,labels=bar_labels)\n",
    "plt.grid()\n",
    "sns.set(style=\"white\")\n",
    "\n"
   ]
  },
  {
   "cell_type": "code",
   "execution_count": null,
   "metadata": {},
   "outputs": [],
   "source": [
    "df_performance_hist = df_performance_hist[2:].reset_index(drop=True)"
   ]
  },
  {
   "cell_type": "code",
   "execution_count": null,
   "metadata": {},
   "outputs": [],
   "source": [
    "df_performance_hist[\"metrics2\"] = \"histogram_\"+df_performance_hist[\"metrics\"]\n",
    "df_performance_hist"
   ]
  },
  {
   "cell_type": "code",
   "execution_count": null,
   "metadata": {},
   "outputs": [],
   "source": [
    "df_temp = df_performance_palette.iloc[2:].reset_index(drop=True)\n",
    "df_temp[\"metrics2\"] = \"palette_\"+df_temp[\"metrics\"]\n",
    "df_temp"
   ]
  },
  {
   "cell_type": "code",
   "execution_count": null,
   "metadata": {},
   "outputs": [],
   "source": [
    "df_temp_comb = pd.concat([df_performance_hist,df_temp],ignore_index=True)\n"
   ]
  },
  {
   "cell_type": "code",
   "execution_count": null,
   "metadata": {},
   "outputs": [],
   "source": [
    "g =sns.catplot(kind=\"point\",data=df_temp_comb,x=\"proportion\",y=\"scores\",hue=\"metrics2\",\n",
    "                palette=\"bright\",col=\"colorspace\",sharex=False,height=4,aspect=0.9)\n",
    "\n",
    "g.set_axis_labels(\"Bin & Palette Sizes Proportion in %\", \"Scores\")\n",
    "g.legend.set_title(\"Metrics\")\n",
    "ax1 =g.facet_axis(0,0)\n",
    "ax2 =g.facet_axis(0,1)\n",
    "\n",
    "ax1.grid()\n",
    "ax2.grid()\n",
    "\n",
    "ax2.spines['left'].set_visible(False)\n",
    "\n",
    "# g.figure.suptitle(\"Deep Metric Learning: Model Peformance with Colour Features Embedding Proportion \",y=1.05)\n",
    "g.figure.suptitle(\"DML: Colour Feature Proportion Effect \",y=1.05)\n",
    "# g.set_xlabels()"
   ]
  },
  {
   "cell_type": "code",
   "execution_count": null,
   "metadata": {},
   "outputs": [],
   "source": [
    "g =sns.catplot(kind=\"point\",data=df_temp_comb,x=\"proportion\",y=\"scores\",hue=\"metrics2\",\n",
    "                palette=\"bright\",col=\"colorspace\",sharex=False,height=4,aspect=0.9)\n",
    "\n",
    "g.set_axis_labels(\"Bin & Palette Sizes Proportion in %\", \"Scores\")\n",
    "g.legend.set_title(\"Metrics\")\n",
    "ax1 =g.facet_axis(0,0)\n",
    "ax2 =g.facet_axis(0,1)\n",
    "\n",
    "ax1.grid()\n",
    "ax1.set_ylim(0,0.5)\n",
    "ax2.grid()\n",
    "\n",
    "ax2.spines['left'].set_visible(False)\n",
    "\n",
    "# g.figure.suptitle(\"Deep Metric Learning: Model Peformance with Colour Features Embedding Proportion \",y=1.05)\n",
    "g.figure.suptitle(\"DML: Colour Feature Proportion Effect \",y=1.05)\n",
    "# g.set_xlabels()"
   ]
  },
  {
   "cell_type": "markdown",
   "metadata": {},
   "source": [
    "# Chart 3: Loss Decay Rate"
   ]
  },
  {
   "cell_type": "code",
   "execution_count": null,
   "metadata": {},
   "outputs": [],
   "source": [
    "lossLogFile = \"loss_histories.csv\"\n",
    "\n",
    "dml_loss_path = dml_artefacts_path.joinpath(\"baseDml\",lossLogFile)\n",
    "\n",
    "rgb_loss_5_path = dml_artefacts_path.joinpath(\"rgb_feats\",lossLogFile)\n",
    "rgb_loss_11_path = dml_artefacts_path.joinpath(\"rgb_feats_11\",lossLogFile)\n",
    "rgb_loss_18_path = dml_artefacts_path.joinpath(\"rgb_feats_18\",lossLogFile)\n",
    "rgb_loss_28_path = dml_artefacts_path.joinpath(\"rgb_feats_28\",lossLogFile)\n",
    "rgb_loss_43_path = dml_artefacts_path.joinpath(\"rgb_feats_43\",lossLogFile)\n",
    "rgb_loss_64_path = dml_artefacts_path.joinpath(\"rgb_feats_64\",lossLogFile)\n",
    "rgb_loss_100_path = dml_artefacts_path.joinpath(\"rgb_feats_100\",lossLogFile)\n",
    "\n",
    "hsv_loss__5_path = dml_artefacts_path.joinpath(\"hsv_feats\",lossLogFile)\n",
    "hsv_loss__11_path = dml_artefacts_path.joinpath(\"hsv_feats_11\",lossLogFile)\n",
    "hsv_loss__18_path = dml_artefacts_path.joinpath(\"hsv_feats_18\",lossLogFile)\n",
    "hsv_loss__28_path = dml_artefacts_path.joinpath(\"hsv_feats_28\",lossLogFile)\n",
    "hsv_loss__43_path = dml_artefacts_path.joinpath(\"hsv_feats_43\",lossLogFile)\n",
    "hsv_loss__64_path = dml_artefacts_path.joinpath(\"hsv_feats_64\",lossLogFile)\n",
    "hsv_loss__100_path = dml_artefacts_path.joinpath(\"hsv_feats_100\",lossLogFile)\n",
    "\n",
    "hist_feats_rgb_5_loss_path = dml_artefacts_path.joinpath(\"hist_feats_rgb_5\",lossLogFile)\n",
    "hist_feats_rgb_11_loss_path = dml_artefacts_path.joinpath(\"hist_feats_rgb_11\",lossLogFile)\n",
    "hist_feats_rgb_18_loss_path = dml_artefacts_path.joinpath(\"hist_feats_rgb_18\",lossLogFile)\n",
    "hist_feats_rgb_28_loss_path = dml_artefacts_path.joinpath(\"hist_feats_rgb_28\",lossLogFile)\n",
    "hist_feats_rgb_43_loss_path = dml_artefacts_path.joinpath(\"hist_feats_rgb_43\",lossLogFile)\n",
    "hist_feats_rgb_64_loss_path = dml_artefacts_path.joinpath(\"hist_feats_rgb_64\",lossLogFile)\n",
    "hist_feats_rgb_100_loss_path = dml_artefacts_path.joinpath(\"hist_feats_rgb_100\",lossLogFile)\n",
    "\n",
    "hist_feats_hsv_5_loss_path = dml_artefacts_path.joinpath(\"hist_feats_hsv_5\",lossLogFile)\n",
    "hist_feats_hsv_11_loss_path = dml_artefacts_path.joinpath(\"hist_feats_hsv_11\",lossLogFile)\n",
    "hist_feats_hsv_18_loss_path = dml_artefacts_path.joinpath(\"hist_feats_hsv_18\",lossLogFile)\n",
    "hist_feats_hsv_28_loss_path = dml_artefacts_path.joinpath(\"hist_feats_hsv_28\",lossLogFile)\n",
    "hist_feats_hsv_43_loss_path = dml_artefacts_path.joinpath(\"hist_feats_hsv_43\",lossLogFile)\n",
    "hist_feats_hsv_64_loss_path = dml_artefacts_path.joinpath(\"hist_feats_hsv_64\",lossLogFile)\n",
    "hist_feats_hsv_100_loss_path = dml_artefacts_path.joinpath(\"hist_feats_hsv_100\",lossLogFile)"
   ]
  },
  {
   "cell_type": "code",
   "execution_count": null,
   "metadata": {},
   "outputs": [],
   "source": [
    "df_dml = pd.read_csv(dml_loss_path)\n",
    "\n",
    "df_rgb_5 = pd.read_csv(rgb_loss_5_path)\n",
    "df_rgb_11 = pd.read_csv(rgb_loss_11_path)\n",
    "df_rgb_18 = pd.read_csv(rgb_loss_18_path)\n",
    "df_rgb_28 = pd.read_csv(rgb_loss_28_path)\n",
    "df_rgb_43 = pd.read_csv(rgb_loss_43_path)\n",
    "df_rgb_64 = pd.read_csv(rgb_loss_64_path)\n",
    "df_rgb_100 = pd.read_csv(rgb_loss_100_path)\n",
    "\n",
    "df_hsv_5 = pd.read_csv(hsv_loss__5_path)\n",
    "df_hsv_11 = pd.read_csv(hsv_loss__11_path)\n",
    "df_hsv_18 = pd.read_csv(hsv_loss__18_path)\n",
    "df_hsv_28 = pd.read_csv(hsv_loss__28_path)\n",
    "df_hsv_43 = pd.read_csv(hsv_loss__43_path)\n",
    "df_hsv_64 = pd.read_csv(hsv_loss__64_path)\n",
    "df_hsv_100 = pd.read_csv(hsv_loss__100_path)\n",
    "\n",
    "\n",
    "df_hist_rgb_5 = pd.read_csv(hist_feats_rgb_5_loss_path)\n",
    "df_hist_rgb_11 = pd.read_csv(hist_feats_rgb_11_loss_path)\n",
    "df_hist_rgb_18 = pd.read_csv(hist_feats_rgb_18_loss_path)\n",
    "df_hist_rgb_28 = pd.read_csv(hist_feats_rgb_28_loss_path)\n",
    "df_hist_rgb_43 = pd.read_csv(hist_feats_rgb_43_loss_path)\n",
    "df_hist_rgb_64 = pd.read_csv(hist_feats_rgb_64_loss_path)\n",
    "df_hist_rgb_100 = pd.read_csv(hist_feats_rgb_100_loss_path)\n",
    "\n",
    "df_hist_hsv_5 = pd.read_csv(hist_feats_hsv_5_loss_path)\n",
    "df_hist_hsv_11 = pd.read_csv(hist_feats_hsv_11_loss_path)\n",
    "df_hist_hsv_18 = pd.read_csv(hist_feats_hsv_18_loss_path)\n",
    "df_hist_hsv_28 = pd.read_csv(hist_feats_hsv_28_loss_path)\n",
    "df_hist_hsv_43 = pd.read_csv(hist_feats_hsv_43_loss_path)\n",
    "df_hist_hsv_64 = pd.read_csv(hist_feats_hsv_64_loss_path)\n",
    "df_hist_hsv_100 = pd.read_csv(hist_feats_hsv_100_loss_path)"
   ]
  },
  {
   "cell_type": "code",
   "execution_count": null,
   "metadata": {},
   "outputs": [],
   "source": [
    "df_dml[\"exp\"] = \"emb\"\n",
    "\n",
    "df_rgb_5[\"exp\"] = \"emb\" + \"+rgb5\"\n",
    "df_rgb_11[\"exp\"] = \"emb\" + \"+rgb11\"\n",
    "df_rgb_18[\"exp\"] = \"emb\" + \"+rgb18\"\n",
    "df_rgb_28[\"exp\"] = \"emb\" + \"+rgb28\"\n",
    "df_rgb_43[\"exp\"] = \"emb\" + \"+rgb43\"\n",
    "df_rgb_64[\"exp\"] = \"emb\" + \"+rgb64\"\n",
    "df_rgb_100[\"exp\"] = \"emb\" + \"+rgb100\"\n",
    "\n",
    "df_hsv_5[\"exp\"] = \"emb\" + \"+hsv5\"\n",
    "df_hsv_11[\"exp\"] = \"emb\" + \"+hsv11\"\n",
    "df_hsv_18[\"exp\"] = \"emb\" + \"+hsv18\"\n",
    "df_hsv_28[\"exp\"] = \"emb\" + \"+hsv28\"\n",
    "df_hsv_43[\"exp\"] = \"emb\" + \"+hsv43\"\n",
    "df_hsv_64[\"exp\"] = \"emb\" + \"+hsv64\"\n",
    "df_hsv_100[\"exp\"] = \"emb\" + \"+hsv100\"\n",
    "\n",
    "df_hist_rgb_5[\"exp\"] = \"emb\" + \"+hist5_rgb\"\n",
    "df_hist_rgb_11[\"exp\"] = \"emb\" + \"+hist11_rgb\"\n",
    "df_hist_rgb_18[\"exp\"] = \"emb\" + \"+hist18_rgb\"\n",
    "df_hist_rgb_28[\"exp\"] = \"emb\" + \"+hist28_rgb\"\n",
    "df_hist_rgb_43[\"exp\"] = \"emb\" + \"+hist43_rgb\"\n",
    "df_hist_rgb_64[\"exp\"] = \"emb\" + \"+hist64_rgb\"\n",
    "df_hist_rgb_100[\"exp\"] = \"emb\" + \"+hist100_rgb\"\n",
    "\n",
    "df_hist_hsv_5[\"exp\"] = \"emb\" + \"+hist5_hsv\"\n",
    "df_hist_hsv_11[\"exp\"] = \"emb\" + \"+hist11_hsv\"\n",
    "df_hist_hsv_18[\"exp\"] = \"emb\" + \"+hist18_hsv\"\n",
    "df_hist_hsv_28[\"exp\"] = \"emb\" + \"+hist28_hsv\"\n",
    "df_hist_hsv_43[\"exp\"] = \"emb\" + \"+hist43_hsv\"\n",
    "df_hist_hsv_64[\"exp\"] = \"emb\" + \"+hist64_hsv\"\n",
    "df_hist_hsv_100[\"exp\"] = \"emb\" + \"+hist100_hsv\""
   ]
  },
  {
   "cell_type": "code",
   "execution_count": null,
   "metadata": {},
   "outputs": [],
   "source": [
    "df_list = [df_dml,df_rgb_5,df_rgb_11,df_rgb_18,df_rgb_28,df_rgb_43,df_rgb_64,df_rgb_100,\n",
    "           df_hsv_5,df_hsv_11,df_hsv_18,df_hsv_28,df_hsv_43,df_hsv_64,df_hsv_100,\n",
    "           df_hist_rgb_5,df_hist_rgb_11,df_hist_rgb_18,df_hist_rgb_28,df_hist_rgb_43,df_hist_rgb_64,df_hist_rgb_100,\n",
    "           df_hist_hsv_5,df_hist_hsv_11,df_hist_hsv_18,df_hist_hsv_28,df_hist_hsv_43,df_hist_hsv_64,df_hist_hsv_100]\n",
    "df_list_rgb = [df_rgb_5,df_rgb_11,df_rgb_18,df_rgb_28,df_rgb_43,df_rgb_64,df_rgb_100]\n",
    "df_list_hsv = [df_hsv_5,df_hsv_11,df_hsv_18,df_hsv_28,df_hsv_43,df_hsv_64,df_hsv_100]\n",
    "df_list_hist_rgb = [df_hist_rgb_5,df_hist_rgb_11,df_hist_rgb_18,df_hist_rgb_28,df_hist_rgb_43,df_hist_rgb_64,df_hist_rgb_100]\n",
    "df_list_hist_hsv = [df_hist_hsv_5,df_hist_hsv_11,df_hist_hsv_18,df_hist_hsv_28,df_hist_hsv_43,df_hist_hsv_64,df_hist_hsv_100]"
   ]
  },
  {
   "cell_type": "code",
   "execution_count": null,
   "metadata": {},
   "outputs": [],
   "source": [
    "df_dml.head()"
   ]
  },
  {
   "cell_type": "code",
   "execution_count": null,
   "metadata": {},
   "outputs": [],
   "source": [
    "df_dml.shape"
   ]
  },
  {
   "cell_type": "code",
   "execution_count": null,
   "metadata": {},
   "outputs": [],
   "source": [
    "for idx,df in enumerate(df_list):\n",
    "    epoch = []\n",
    "    max_iter = df.shape[0]\n",
    "    counter = 0\n",
    "    for i in range(max_iter):\n",
    "        if(((i)%6)==0):\n",
    "            counter+=1\n",
    "            epoch.append(counter)\n",
    "        else:\n",
    "            epoch.append(counter)\n",
    "    # print(epoch)\n",
    "    # print(len(epoch))\n",
    "    df_list[idx][\"epoch\"] = epoch\n"
   ]
  },
  {
   "cell_type": "code",
   "execution_count": null,
   "metadata": {},
   "outputs": [],
   "source": [
    "df_list[0].head(20)"
   ]
  },
  {
   "cell_type": "code",
   "execution_count": null,
   "metadata": {},
   "outputs": [],
   "source": [
    "max_epoch = []\n",
    "for df in df_list:\n",
    "    max_epoch.append(df.epoch.max())\n",
    "print(np.array(max_epoch).min())"
   ]
  },
  {
   "cell_type": "code",
   "execution_count": null,
   "metadata": {},
   "outputs": [],
   "source": [
    "list(df_list[1].groupby(by=\"epoch\")[\"total_loss\"].mean()[:7].index)"
   ]
  },
  {
   "cell_type": "code",
   "execution_count": null,
   "metadata": {},
   "outputs": [],
   "source": [
    "df_list[1].groupby(by=\"epoch\")[\"total_loss\"].mean()[:7]\n",
    "loss = list(df_list[1].groupby(by=\"epoch\")[\"total_loss\"].mean()[:7])\n",
    "epoch = list(df_list[1].groupby(by=\"epoch\")[\"total_loss\"].mean()[:7].index)\n",
    "pd.DataFrame({'train_loss': loss, 'epcoh': epoch})"
   ]
  },
  {
   "cell_type": "code",
   "execution_count": null,
   "metadata": {},
   "outputs": [],
   "source": [
    "exps = [\"\",\"+rgb_5\",\"+rgb_11\",\"+rgb_18\",\"+rgb_28\",\"+rgb_43\",\"+rgb_64\",\"+rgb_100\",\n",
    "         \"+hsv_5\", \"+hsv_11\",\"+hsv_18\",\"+hsv_28\",\"+hsv_43\",\"+hsv_64\",\"+hsv_100\",\n",
    "         \"+hist_rgb_5\",\"+hist_rgb_11\",\"+hist_rgb_18\",\"+hist_rgb_28\",\"+hist_rgb_43\",\"+hist_rgb_64\",\"+hist_rgb_100\",\n",
    "         \"+hist_hsv_5\",\"+hist_hsv_11\",\"+hist_hsv_18\",\"+hist_hsv_28\",\"+hist_hsv_43\",\"+hist_hsv_64\",\"+hist_hsv_100\"]\n",
    "\n",
    "exps_legends = [\"emb\"+exp for exp in exps]\n",
    "df_decay = pd.DataFrame(columns=[\"train_loss\",\"epoch\"])\n",
    "for i,df in enumerate(df_list):\n",
    "    loss = list(df.groupby(by=\"epoch\")[\"total_loss\"].mean()[:7])\n",
    "    epoch = list(df.groupby(by=\"epoch\")[\"total_loss\"].mean()[:7].index)\n",
    "    df_temp = pd.DataFrame({'train_loss': loss, 'epoch': epoch})\n",
    "    df_temp[\"features\"] = exps_legends[i]\n",
    "    df_decay = pd.concat([df_decay,df_temp],ignore_index=True)\n"
   ]
  },
  {
   "cell_type": "code",
   "execution_count": null,
   "metadata": {},
   "outputs": [],
   "source": [
    "df_decay"
   ]
  },
  {
   "cell_type": "code",
   "execution_count": null,
   "metadata": {},
   "outputs": [],
   "source": [
    "plt.rcParams[\"lines.linewidth\"] = 0.7\n",
    "plt.figure(figsize=(4,4))\n",
    "ax = sns.pointplot(df_decay,x='epoch',y=\"train_loss\",hue=\"features\",palette=\"tab20\")\n",
    "# print(ax.set)\n",
    "# ax.figure.set_linewidth(0.1)\n",
    "ax.set_xlabel(\"Epoch\")\n",
    "ax.set_ylabel(\"Loss\")\n",
    "ax.set_title(\"DML: Training Loss Decay\")\n",
    "sns.move_legend(ax, \"upper left\", bbox_to_anchor=(1, 1))\n",
    "plt.grid() "
   ]
  },
  {
   "cell_type": "code",
   "execution_count": null,
   "metadata": {},
   "outputs": [],
   "source": [
    "df_decay.shape"
   ]
  },
  {
   "cell_type": "code",
   "execution_count": null,
   "metadata": {},
   "outputs": [],
   "source": [
    "df_decay1  = df_decay.iloc[:105]\n",
    "df_decay2 = pd.concat([df_decay.iloc[:7],df_decay.iloc[105:]],ignore_index=True)"
   ]
  },
  {
   "cell_type": "code",
   "execution_count": null,
   "metadata": {},
   "outputs": [],
   "source": [
    "df_decay2.shape == df_decay1.shape"
   ]
  },
  {
   "cell_type": "code",
   "execution_count": null,
   "metadata": {},
   "outputs": [],
   "source": [
    "plt.rcParams[\"lines.linewidth\"] = 0.7\n",
    "plt.figure(figsize=(6.4,4.8))\n",
    "ax = sns.pointplot(df_decay1,x='epoch',y=\"train_loss\",hue=\"features\",palette=\"tab20\")\n",
    "# print(ax.set)\n",
    "# ax.figure.set_linewidth(0.1)\n",
    "ax.set_xlabel(\"Epoch\",fontsize=10)\n",
    "ax.set_ylabel(\"Loss\",fontsize=10)\n",
    "ax.set_title(\"DML: N-Dominat Color Features Training Loss Decay\")\n",
    "sns.move_legend(ax, \"upper left\", bbox_to_anchor=(1, 1))\n",
    "plt.grid() "
   ]
  },
  {
   "cell_type": "code",
   "execution_count": null,
   "metadata": {},
   "outputs": [],
   "source": [
    "plt.rcParams[\"lines.linewidth\"] = 0.7\n",
    "plt.figure(figsize=(4,4))\n",
    "ax = sns.pointplot(df_decay2,x='epoch',y=\"train_loss\",hue=\"features\",palette=\"tab20\")\n",
    "# print(ax.set)\n",
    "# ax.figure.set_linewidth(0.1)\n",
    "ax.set_xlabel(\"Epoch\")\n",
    "ax.set_ylabel(\"Loss\")\n",
    "ax.set_title(\"DML: Histogram Color Features Training Loss Decay\")\n",
    "sns.move_legend(ax, \"upper left\", bbox_to_anchor=(1, 1))\n",
    "plt.grid() "
   ]
  },
  {
   "cell_type": "code",
   "execution_count": null,
   "metadata": {},
   "outputs": [],
   "source": [
    "plt.rcParams[\"lines.linewidth\"] = 0.7\n",
    "plt.figure(figsize=(6.4,4.8))\n",
    "ax = sns.pointplot(df_decay2,x='epoch',y=\"train_loss\",hue=\"features\",palette=\"tab20\")\n",
    "ax.set_xlabel(\"Epoch\",fontsize=10)\n",
    "ax.set_ylabel(\"Loss\",fontsize=10)\n",
    "ax.set_title(\"DML: Histogram Color Features Training Loss Decay\",fontsize=10)\n",
    "# ax.axes.set_title(\"Title\",fontsize=25)\n",
    "\n",
    "sns.move_legend(ax, \"upper left\", bbox_to_anchor=(1, 1))\n",
    "plt.grid() "
   ]
  }
 ],
 "metadata": {
  "kernelspec": {
   "display_name": "pt",
   "language": "python",
   "name": "python3"
  },
  "language_info": {
   "codemirror_mode": {
    "name": "ipython",
    "version": 3
   },
   "file_extension": ".py",
   "mimetype": "text/x-python",
   "name": "python",
   "nbconvert_exporter": "python",
   "pygments_lexer": "ipython3",
   "version": "3.9.18"
  }
 },
 "nbformat": 4,
 "nbformat_minor": 2
}
