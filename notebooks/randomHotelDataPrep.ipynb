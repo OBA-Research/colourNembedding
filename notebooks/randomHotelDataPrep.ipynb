{
 "cells": [
  {
   "cell_type": "code",
   "execution_count": null,
   "metadata": {},
   "outputs": [],
   "source": [
    "import os, random\n",
    "import pandas as pd \n",
    "import numpy as np\n",
    "\n",
    "\n",
    "# Seed randomness \n",
    "seed = 2024\n",
    "np.random.seed(seed)\n",
    "random.seed(seed)"
   ]
  },
  {
   "cell_type": "code",
   "execution_count": null,
   "metadata": {},
   "outputs": [],
   "source": [
    "base_dir = \"/Users/yhemmy/Documents/code/hotel-id-experiments/dataset/kaggle/hotel-id-2022-fgvc9/train_images\"\n",
    "dataset_base_dir = \"/Users/yhemmy/Documents/code/hotel-id-experiments/dataset/randomHotels/\"\n",
    "nClass = len(os.listdir(base_dir))"
   ]
  },
  {
   "cell_type": "code",
   "execution_count": null,
   "metadata": {},
   "outputs": [],
   "source": [
    "def deleteDS_Store(dir=None,list=None):\n",
    "    if(dir):\n",
    "        workdir=os.listdir(dir)\n",
    "        if '.DS_Store' in workdir:\n",
    "            workdir.remove('.DS_Store')\n",
    "    else:\n",
    "        if '.DS_Store' in list:\n",
    "            list.remove('.DS_Store')\n",
    "    return"
   ]
  },
  {
   "cell_type": "code",
   "execution_count": null,
   "metadata": {},
   "outputs": [],
   "source": [
    "deleteDS_Store(base_dir)\n",
    "deleteDS_Store(dataset_base_dir)"
   ]
  },
  {
   "cell_type": "code",
   "execution_count": null,
   "metadata": {},
   "outputs": [],
   "source": [
    "random.seed(seed)\n",
    "nSamples = 1000\n",
    "randomHotelsIndices = random.sample(range(0,nClass),nSamples)\n",
    "randomHotelsIndices"
   ]
  },
  {
   "cell_type": "code",
   "execution_count": null,
   "metadata": {},
   "outputs": [],
   "source": [
    "all_hotels = os.listdir(base_dir)\n",
    "deleteDS_Store(list = all_hotels)\n",
    "randomHotels = []\n",
    "for i in randomHotelsIndices:\n",
    "    randomHotels.append(all_hotels[i])\n",
    "    "
   ]
  },
  {
   "cell_type": "code",
   "execution_count": null,
   "metadata": {},
   "outputs": [],
   "source": [
    "data = []\n",
    "for h in randomHotels:\n",
    "    path = base_dir+\"/\"+h\n",
    "    deleteDS_Store(base_dir+\"/\"+h)\n",
    "\n",
    "    imgs = os.listdir(path)\n",
    "    img_and_class = [(img,h) for img in imgs]\n",
    "    data.extend(img_and_class)"
   ]
  },
  {
   "cell_type": "code",
   "execution_count": null,
   "metadata": {},
   "outputs": [],
   "source": [
    "hotels = pd.DataFrame(data,columns=[\"image_id\",\"hotel_id\"])\n",
    "hotels.to_csv(dataset_base_dir+f\"randomHotels_{nSamples}.csv\",index=False)"
   ]
  },
  {
   "cell_type": "code",
   "execution_count": null,
   "metadata": {},
   "outputs": [],
   "source": [
    "hotels.dtypes"
   ]
  },
  {
   "cell_type": "markdown",
   "metadata": {},
   "source": [
    "# Resize and Save images"
   ]
  },
  {
   "cell_type": "code",
   "execution_count": null,
   "metadata": {},
   "outputs": [],
   "source": [
    "import cv2 as cv\n",
    "import matplotlib.pyplot as plt"
   ]
  },
  {
   "cell_type": "code",
   "execution_count": null,
   "metadata": {},
   "outputs": [],
   "source": [
    "df=pd.read_csv(dataset_base_dir+f\"randomHotels_{nSamples}.csv\")\n",
    "df.head()\n"
   ]
  },
  {
   "cell_type": "code",
   "execution_count": null,
   "metadata": {},
   "outputs": [],
   "source": [
    "for c in df.hotel_id.unique():\n",
    "    path = dataset_base_dir+f\"hotels_256x256/{c}\"\n",
    "    os.makedirs(name=path,exist_ok=False)"
   ]
  },
  {
   "cell_type": "code",
   "execution_count": null,
   "metadata": {},
   "outputs": [],
   "source": [
    "train_dir = \"/Users/yhemmy/Documents/code/hotel-id-experiments/dataset/kaggle/hotel-id-2022-fgvc9/train_images\"\n",
    "train_imgs_dir = []\n",
    "for ind,row in df.iterrows():\n",
    "    image_id = row[\"image_id\"]\n",
    "    hotel_id = str(row[\"hotel_id\"])\n",
    "    img = \"/\"+hotel_id+\"/\"+image_id\n",
    "    path = train_dir+img\n",
    "    img = cv.imread(path)\n",
    "    img = cv.resize(img,(256,256))\n",
    "    img = cv.cvtColor(img,cv.COLOR_BGR2RGB)\n",
    "    filename = dataset_base_dir+f\"hotels_256x256/{hotel_id}/{image_id}\"\n",
    "    cv.imwrite(filename=filename,img=img)\n",
    "    # print(img.shape)\n",
    "    # plt.imshow(img)\n",
    "    # break"
   ]
  }
 ],
 "metadata": {
  "kernelspec": {
   "display_name": "pt",
   "language": "python",
   "name": "pt"
  },
  "language_info": {
   "codemirror_mode": {
    "name": "ipython",
    "version": 3
   },
   "file_extension": ".py",
   "mimetype": "text/x-python",
   "name": "python",
   "nbconvert_exporter": "python",
   "pygments_lexer": "ipython3",
   "version": "3.9.18"
  }
 },
 "nbformat": 4,
 "nbformat_minor": 2
}
